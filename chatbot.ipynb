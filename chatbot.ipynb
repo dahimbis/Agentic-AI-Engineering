{
 "cells": [
  {
   "cell_type": "code",
   "execution_count": 1,
   "id": "023245dd",
   "metadata": {},
   "outputs": [],
   "source": [
    "import gradio as gr\n",
    "from dotenv import load_dotenv\n",
    "from openai import OpenAI\n",
    "\n",
    "from PyPDF2 import PdfReader\n",
    "\n",
    "openai = OpenAI()\n",
    "load_dotenv(override=True)\n",
    "\n",
    "reader = PdfReader(\"E:/Agentic/agents/1_foundations/me/DAN/Profile.pdf\")\n",
    "\n",
    "\n",
    "\n",
    "\n",
    "\n",
    "\n"
   ]
  },
  {
   "cell_type": "code",
   "execution_count": 2,
   "id": "f8688946",
   "metadata": {},
   "outputs": [],
   "source": [
    "linkedin = \"\"\n",
    "\n",
    "for page in reader.pages:\n",
    "    text = page.extract_text()\n",
    "    linkedin +=text"
   ]
  },
  {
   "cell_type": "code",
   "execution_count": 3,
   "id": "2a641d74",
   "metadata": {},
   "outputs": [
    {
     "name": "stdout",
     "output_type": "stream",
     "text": [
      "   \n",
      "Contact\n",
      "heartdan66@gmail.com\n",
      "www.linkedin.com/in/ahimbisibwe-\n",
      "dan-14150819a  (LinkedIn)\n",
      "Top Skills\n",
      "Writing\n",
      "VolunteeringAhimbisibwe Dan\n",
      "IEEE STEM Ambassador | MS in Computer Engineering at NYU |\n",
      "African Scholar | Passionate About Education & Innovation | Driving\n",
      "'Project Zero to Hero' (Building from Scratch to Success, 2026)\n",
      "United States\n",
      "Summary\n",
      "A vibrant, persistent individual on a journey to find deeper meaning\n",
      "and purpose. Embracing the challenges of life with an open mind\n",
      "and a relentless drive for growth, I am continuously exploring new\n",
      "paths, pushing boundaries, and seeking ways to make a positive\n",
      "impact on myself and the world around me.\n",
      "Experience\n",
      "IEEE\n",
      "8 years 7 months\n",
      "Vice President - IEEE NYU Student Branch\n",
      "June 2025 - Present  (4 months)\n",
      "New York, United States\n",
      "Website Co-chair IEEE Connecting the Unconnected (CTU) NA\n",
      "May 2025 - Present  (5 months)\n",
      "Assist in updating the website for the 2025 IEEE Connecting the Unconnected\n",
      "North America Regional Summit (IEEE CTU NA).\n",
      "My roles included:\n",
      "Adding a sponsorship section to the website.\n",
      "Creating speaker bio pages for all presenters.\n",
      "Adding a dedicated section for the organizing committee.\n",
      "For more details, visit https://ctu.ieee.org/summit/2025-ctu-summit/2025-ctu-\n",
      "summit-na/\n",
      "Chair - Student Activities Committee - IEEE Uganda Section\n",
      "March 2017 - June 2025  (8 years 4 months)\n",
      "Chairperson - IEEE Kyambogo University Photonics Chapter\n",
      "April 2020 - December 2021  (1 year 9 months)\n",
      "Kampala, Uganda\n",
      "Most Innovative Chapter Award\n",
      "  Page 1 of 3   \n",
      "Led the team that received this prestigious award for implementing innovative\n",
      "initiatives, including STEM outreach for young girls and women in rural areas,\n",
      "community-building activities and competitions for students and mentors,\n",
      "COVID-19 support for local health facilities, Teacher-in-Service programs, and\n",
      "organizing \"Photonics Week\" to promote photonics education.\n",
      "Chairperson - IEEE Kyambogo University Student Branch\n",
      "January 2019 - December 2021  (3 years)\n",
      "Project Leader - Hands Free door Opening System\n",
      "June 2020 - June 2021  (1 year 1 month)\n",
      "Kampala, Uganda\n",
      "We developed a multi-functional tool, “Togikwatako,” designed to open and\n",
      "close doors, press elevator and ATM buttons, and serve as a bottle opener—\n",
      "all without direct contact. This tool was created to help reduce the spread of\n",
      "COVID-19 in Uganda by minimizing physical touchpoints in everyday activities.\n",
      "Chairperson - IEEE Women in Engineering International Leadership\n",
      "Summit Uganda 2020\n",
      "January 2020 - December 2020  (1 year)\n",
      "Kampala, Uganda\n",
      "Hosted a workshop that attracted over 300 participants from 25 countries,\n",
      "championing diversity and inclusion in engineering.\n",
      "Vice President - Kyambogo University Engineering Society\n",
      "March 2019 - December 2020  (1 year 10 months)\n",
      "Kampala, Uganda\n",
      "Webmaster - IEEE Kyambogo University Student Branch\n",
      "March 2018 - March 2019  (1 year 1 month)\n",
      "Developed and maintained the student branch website.\n",
      "New York University\n",
      "Graduate Assistant\n",
      "January 2025 - Present  (9 months)\n",
      "New York, United States\n",
      "Verifying and processing MS and PhD applications for prospective students.\n",
      "One Million Girls Pad Project Uganda\n",
      "Project Team Lead\n",
      "July 2021 - Present  (4 years 3 months)\n",
      "Kampala, Uganda\n",
      "  Page 2 of 3   \n",
      "ZTE UGANDA LIMITED\n",
      "Engineer\n",
      "March 2024 - June 2024  (4 months)\n",
      "Kampala, Central Region, Uganda\n",
      "Monitored performance metrics for Access Network and Core Networks for\n",
      "MTN Uganda, ensuring high standards of network health.\n",
      "Uganda Communications Commission\n",
      "Systems Engineer\n",
      "May 2022 - December 2023  (1 year 8 months)\n",
      "Kampala, Uganda\n",
      "Type approval assessments for over 900 telecom equipment models to ensure\n",
      "compliance with national and international standards.\n",
      "Conducted equipment compatibility tests across brands using CE, RF, and\n",
      "EMC standards, contributing to improved network reliability.\n",
      "Education\n",
      "New York University\n",
      "Master of Science - MS, Computer Engineering  · (September 2024 - May\n",
      "2026)\n",
      "Kyambogo University\n",
      "Bachelor of Engineering , Telecommunications\n",
      "Engineering  · (2016 - September 2021)\n",
      "Uganda Martyrs Senior Secondary Secondary Namugongo\n",
      "(UMSSN)\n",
      "High School Diploma \n",
      "Seeta High School\n",
      "  Page 3 of 3\n"
     ]
    }
   ],
   "source": [
    "print(linkedin)"
   ]
  },
  {
   "cell_type": "code",
   "execution_count": 4,
   "id": "c28da021",
   "metadata": {},
   "outputs": [],
   "source": [
    "with open(\"E:/Agentic/agents/1_foundations/me/DAN/summary.txt\", \"r\", encoding = \"utf-8\") as f:\n",
    "    summary = f.read()"
   ]
  },
  {
   "cell_type": "code",
   "execution_count": 5,
   "id": "ee441ca4",
   "metadata": {},
   "outputs": [
    {
     "name": "stdout",
     "output_type": "stream",
     "text": [
      "Born and raised in Kampala, Uganda, a country in East Africa known as the Pearl of Africa and home to the largest population of gorillas and the world’s longest river, the Nile, Dan is currently in his second year pursuing a master’s degree in Computer Engineering at New York University. He is currently the Vice President of the IEEE NYU Club.\n",
      "Dan is passionate about using technology to solve community problems. He was the Chair of the One Million Girls Pad Project, an initiative aimed at training girls in rural communities to make their own sanitary pads. He is also a STEM ambassador working with pre-university students and has led programs such as My Robot Friend, which focuses on training students in robotics, electronics, programming, and mentorship. He also led a solar project that provided solar systems to a local primary school and health center in the village where he grew up, something he is especially proud of.\n",
      "He also loves to travel and has won several travel grants to various regions and conferences, including China, Chicago, San Francisco, Washington DC, Florida, and Dallas.\n",
      "Surprisingly, Dan has just learned how to cook. “I didn’t even know how to break an egg,” he says, “but coming to New York, I had to learn to survive.”\n",
      "\n"
     ]
    }
   ],
   "source": [
    "print(summary)"
   ]
  },
  {
   "cell_type": "code",
   "execution_count": 8,
   "id": "7df9b1bf",
   "metadata": {},
   "outputs": [],
   "source": [
    "name = \"Dan Ahimbisibwe\""
   ]
  },
  {
   "cell_type": "code",
   "execution_count": 9,
   "id": "9977cdb4",
   "metadata": {},
   "outputs": [],
   "source": [
    "system_prompt = f\" Acting as {name} you are going to answer {name}'s details about his life, job experince, education \\\n",
    "    if you dont know say u dont know the question\"\n",
    "system_prompt+=f\"Here is {name} linkedin {linkedin} and summary {summary}\"\n",
    "system_prompt +=f\" Dont not add additional Information\" "
   ]
  },
  {
   "cell_type": "code",
   "execution_count": 11,
   "id": "bf57eeb0",
   "metadata": {},
   "outputs": [
    {
     "name": "stdout",
     "output_type": "stream",
     "text": [
      " Acting as Dan Ahimbisibwe you are going to answer Dan Ahimbisibwe's details about his life, job experince, education     if you dont know say u dont know the questionHere is Dan Ahimbisibwe linkedin    \n",
      "Contact\n",
      "heartdan66@gmail.com\n",
      "www.linkedin.com/in/ahimbisibwe-\n",
      "dan-14150819a  (LinkedIn)\n",
      "Top Skills\n",
      "Writing\n",
      "VolunteeringAhimbisibwe Dan\n",
      "IEEE STEM Ambassador | MS in Computer Engineering at NYU |\n",
      "African Scholar | Passionate About Education & Innovation | Driving\n",
      "'Project Zero to Hero' (Building from Scratch to Success, 2026)\n",
      "United States\n",
      "Summary\n",
      "A vibrant, persistent individual on a journey to find deeper meaning\n",
      "and purpose. Embracing the challenges of life with an open mind\n",
      "and a relentless drive for growth, I am continuously exploring new\n",
      "paths, pushing boundaries, and seeking ways to make a positive\n",
      "impact on myself and the world around me.\n",
      "Experience\n",
      "IEEE\n",
      "8 years 7 months\n",
      "Vice President - IEEE NYU Student Branch\n",
      "June 2025 - Present  (4 months)\n",
      "New York, United States\n",
      "Website Co-chair IEEE Connecting the Unconnected (CTU) NA\n",
      "May 2025 - Present  (5 months)\n",
      "Assist in updating the website for the 2025 IEEE Connecting the Unconnected\n",
      "North America Regional Summit (IEEE CTU NA).\n",
      "My roles included:\n",
      "Adding a sponsorship section to the website.\n",
      "Creating speaker bio pages for all presenters.\n",
      "Adding a dedicated section for the organizing committee.\n",
      "For more details, visit https://ctu.ieee.org/summit/2025-ctu-summit/2025-ctu-\n",
      "summit-na/\n",
      "Chair - Student Activities Committee - IEEE Uganda Section\n",
      "March 2017 - June 2025  (8 years 4 months)\n",
      "Chairperson - IEEE Kyambogo University Photonics Chapter\n",
      "April 2020 - December 2021  (1 year 9 months)\n",
      "Kampala, Uganda\n",
      "Most Innovative Chapter Award\n",
      "  Page 1 of 3   \n",
      "Led the team that received this prestigious award for implementing innovative\n",
      "initiatives, including STEM outreach for young girls and women in rural areas,\n",
      "community-building activities and competitions for students and mentors,\n",
      "COVID-19 support for local health facilities, Teacher-in-Service programs, and\n",
      "organizing \"Photonics Week\" to promote photonics education.\n",
      "Chairperson - IEEE Kyambogo University Student Branch\n",
      "January 2019 - December 2021  (3 years)\n",
      "Project Leader - Hands Free door Opening System\n",
      "June 2020 - June 2021  (1 year 1 month)\n",
      "Kampala, Uganda\n",
      "We developed a multi-functional tool, “Togikwatako,” designed to open and\n",
      "close doors, press elevator and ATM buttons, and serve as a bottle opener—\n",
      "all without direct contact. This tool was created to help reduce the spread of\n",
      "COVID-19 in Uganda by minimizing physical touchpoints in everyday activities.\n",
      "Chairperson - IEEE Women in Engineering International Leadership\n",
      "Summit Uganda 2020\n",
      "January 2020 - December 2020  (1 year)\n",
      "Kampala, Uganda\n",
      "Hosted a workshop that attracted over 300 participants from 25 countries,\n",
      "championing diversity and inclusion in engineering.\n",
      "Vice President - Kyambogo University Engineering Society\n",
      "March 2019 - December 2020  (1 year 10 months)\n",
      "Kampala, Uganda\n",
      "Webmaster - IEEE Kyambogo University Student Branch\n",
      "March 2018 - March 2019  (1 year 1 month)\n",
      "Developed and maintained the student branch website.\n",
      "New York University\n",
      "Graduate Assistant\n",
      "January 2025 - Present  (9 months)\n",
      "New York, United States\n",
      "Verifying and processing MS and PhD applications for prospective students.\n",
      "One Million Girls Pad Project Uganda\n",
      "Project Team Lead\n",
      "July 2021 - Present  (4 years 3 months)\n",
      "Kampala, Uganda\n",
      "  Page 2 of 3   \n",
      "ZTE UGANDA LIMITED\n",
      "Engineer\n",
      "March 2024 - June 2024  (4 months)\n",
      "Kampala, Central Region, Uganda\n",
      "Monitored performance metrics for Access Network and Core Networks for\n",
      "MTN Uganda, ensuring high standards of network health.\n",
      "Uganda Communications Commission\n",
      "Systems Engineer\n",
      "May 2022 - December 2023  (1 year 8 months)\n",
      "Kampala, Uganda\n",
      "Type approval assessments for over 900 telecom equipment models to ensure\n",
      "compliance with national and international standards.\n",
      "Conducted equipment compatibility tests across brands using CE, RF, and\n",
      "EMC standards, contributing to improved network reliability.\n",
      "Education\n",
      "New York University\n",
      "Master of Science - MS, Computer Engineering  · (September 2024 - May\n",
      "2026)\n",
      "Kyambogo University\n",
      "Bachelor of Engineering , Telecommunications\n",
      "Engineering  · (2016 - September 2021)\n",
      "Uganda Martyrs Senior Secondary Secondary Namugongo\n",
      "(UMSSN)\n",
      "High School Diploma \n",
      "Seeta High School\n",
      "  Page 3 of 3 and summary Born and raised in Kampala, Uganda, a country in East Africa known as the Pearl of Africa and home to the largest population of gorillas and the world’s longest river, the Nile, Dan is currently in his second year pursuing a master’s degree in Computer Engineering at New York University. He is currently the Vice President of the IEEE NYU Club.\n",
      "Dan is passionate about using technology to solve community problems. He was the Chair of the One Million Girls Pad Project, an initiative aimed at training girls in rural communities to make their own sanitary pads. He is also a STEM ambassador working with pre-university students and has led programs such as My Robot Friend, which focuses on training students in robotics, electronics, programming, and mentorship. He also led a solar project that provided solar systems to a local primary school and health center in the village where he grew up, something he is especially proud of.\n",
      "He also loves to travel and has won several travel grants to various regions and conferences, including China, Chicago, San Francisco, Washington DC, Florida, and Dallas.\n",
      "Surprisingly, Dan has just learned how to cook. “I didn’t even know how to break an egg,” he says, “but coming to New York, I had to learn to survive.”\n",
      " Dont not add additional Information\n"
     ]
    }
   ],
   "source": [
    "print(system_prompt)"
   ]
  },
  {
   "cell_type": "code",
   "execution_count": 12,
   "id": "06ac7144",
   "metadata": {},
   "outputs": [],
   "source": [
    "def chat(message, history):\n",
    "    messages = [{\"role\":\"system\", \"content\":system_prompt}] + history + [{\"role\":\"user\",\"content\":message}]\n",
    "    response = openai.chat.completions.create(model=\"gpt-4o-mini\", messages = messages)\n",
    "    reply = response.choices[0].message.content"
   ]
  },
  {
   "cell_type": "code",
   "execution_count": 14,
   "id": "a47f1605",
   "metadata": {},
   "outputs": [
    {
     "name": "stdout",
     "output_type": "stream",
     "text": [
      "* Running on local URL:  http://127.0.0.1:7860\n",
      "* To create a public link, set `share=True` in `launch()`.\n"
     ]
    },
    {
     "data": {
      "text/html": [
       "<div><iframe src=\"http://127.0.0.1:7860/\" width=\"100%\" height=\"500\" allow=\"autoplay; camera; microphone; clipboard-read; clipboard-write;\" frameborder=\"0\" allowfullscreen></iframe></div>"
      ],
      "text/plain": [
       "<IPython.core.display.HTML object>"
      ]
     },
     "metadata": {},
     "output_type": "display_data"
    },
    {
     "data": {
      "text/plain": []
     },
     "execution_count": 14,
     "metadata": {},
     "output_type": "execute_result"
    },
   "source": [
    "gr.ChatInterface(chat, type=\"messages\").launch()"
   ]
  },
  {
   "cell_type": "code",
   "execution_count": null,
   "id": "1fa282b9",
   "metadata": {},
   "outputs": [],
   "source": []
  }
 ],
 "metadata": {
  "kernelspec": {
   "display_name": ".venv",
   "language": "python",
   "name": "python3"
  },
  "language_info": {
   "codemirror_mode": {
    "name": "ipython",
    "version": 3
   },
   "file_extension": ".py",
   "mimetype": "text/x-python",
   "name": "python",
   "nbconvert_exporter": "python",
   "pygments_lexer": "ipython3",
   "version": "3.12.5"
  }
 },
 "nbformat": 4,
 "nbformat_minor": 5
}
