{
 "cells": [
  {
   "cell_type": "code",
   "execution_count": 3,
   "id": "1783c403",
   "metadata": {},
   "outputs": [
    {
     "data": {
      "text/plain": [
       "True"
      ]
     },
     "execution_count": 3,
     "metadata": {},
     "output_type": "execute_result"
    }
   ],
   "source": [
    "\n",
    "import gradio as gr\n",
    "import os\n",
    "from openai import OpenAI\n",
    "from pypdf import PdfReader\n",
    "from dotenv import load_dotenv\n",
    "\n",
    "openai =OpenAI()\n",
    "reader = PdfReader(\"E:/Agentic/agents/1_foundations/me/DAN/Profile.pdf\")\n",
    "load_dotenv(override=True)\n",
    "\n",
    "\n",
    "\n",
    "\n"
   ]
  },
  {
   "cell_type": "code",
   "execution_count": 5,
   "id": "affdc301",
   "metadata": {},
   "outputs": [],
   "source": [
    "linkedin =\"\"\n",
    "\n",
    "for page in reader.pages:\n",
    "    text = page.extract_text()\n",
    "    if text:\n",
    "        linkedin +=text\n"
   ]
  },
  {
   "cell_type": "code",
   "execution_count": 6,
   "id": "a5454db1",
   "metadata": {},
   "outputs": [
    {
     "name": "stdout",
     "output_type": "stream",
     "text": [
      "   \n",
      "Contact\n",
      "heartdan66@gmail.com\n",
      "www.linkedin.com/in/ahimbisibwe-\n",
      "dan-14150819a (LinkedIn)\n",
      "Top Skills\n",
      "Writing\n",
      "Volunteering\n",
      "Ahimbisibwe Dan\n",
      "IEEE STEM Ambassador | MS in Computer Engineering at NYU |\n",
      "African Scholar | Passionate About Education & Innovation | Driving\n",
      "'Project Zero to Hero' (Building from Scratch to Success, 2026)\n",
      "United States\n",
      "Summary\n",
      "A vibrant, persistent individual on a journey to find deeper meaning\n",
      "and purpose. Embracing the challenges of life with an open mind\n",
      "and a relentless drive for growth, I am continuously exploring new\n",
      "paths, pushing boundaries, and seeking ways to make a positive\n",
      "impact on myself and the world around me.\n",
      "Experience\n",
      "IEEE\n",
      "8 years 7 months\n",
      "Vice President - IEEE NYU Student Branch\n",
      "June 2025 - Present (4 months)\n",
      "New York, United States\n",
      "Website Co-chair IEEE Connecting the Unconnected (CTU) NA\n",
      "May 2025 - Present (5 months)\n",
      "Assist in updating the website for the 2025 IEEE Connecting the Unconnected\n",
      "North America Regional Summit (IEEE CTU NA).\n",
      "My roles included:\n",
      "Adding a sponsorship section to the website.\n",
      "Creating speaker bio pages for all presenters.\n",
      "Adding a dedicated section for the organizing committee.\n",
      "For more details, visit https://ctu.ieee.org/summit/2025-ctu-summit/2025-ctu-\n",
      "summit-na/\n",
      "Chair - Student Activities Committee - IEEE Uganda Section\n",
      "March 2017 - June 2025 (8 years 4 months)\n",
      "Chairperson - IEEE Kyambogo University Photonics Chapter\n",
      "April 2020 - December 2021 (1 year 9 months)\n",
      "Kampala, Uganda\n",
      "Most Innovative Chapter Award\n",
      "  Page 1 of 3   \n",
      "Led the team that received this prestigious award for implementing innovative\n",
      "initiatives, including STEM outreach for young girls and women in rural areas,\n",
      "community-building activities and competitions for students and mentors,\n",
      "COVID-19 support for local health facilities, Teacher-in-Service programs, and\n",
      "organizing \"Photonics Week\" to promote photonics education.\n",
      "Chairperson - IEEE Kyambogo University Student Branch\n",
      "January 2019 - December 2021 (3 years)\n",
      "Project Leader - Hands Free door Opening System\n",
      "June 2020 - June 2021 (1 year 1 month)\n",
      "Kampala, Uganda\n",
      "We developed a multi-functional tool, “Togikwatako,” designed to open and\n",
      "close doors, press elevator and ATM buttons, and serve as a bottle opener—\n",
      "all without direct contact. This tool was created to help reduce the spread of\n",
      "COVID-19 in Uganda by minimizing physical touchpoints in everyday activities.\n",
      "Chairperson - IEEE Women in Engineering International Leadership\n",
      "Summit Uganda 2020\n",
      "January 2020 - December 2020 (1 year)\n",
      "Kampala, Uganda\n",
      "Hosted a workshop that attracted over 300 participants from 25 countries,\n",
      "championing diversity and inclusion in engineering.\n",
      "Vice President - Kyambogo University Engineering Society\n",
      "March 2019 - December 2020 (1 year 10 months)\n",
      "Kampala, Uganda\n",
      "Webmaster - IEEE Kyambogo University Student Branch\n",
      "March 2018 - March 2019 (1 year 1 month)\n",
      "Developed and maintained the student branch website.\n",
      "New York University\n",
      "Graduate Assistant\n",
      "January 2025 - Present (9 months)\n",
      "New York, United States\n",
      "Verifying and processing MS and PhD applications for prospective students.\n",
      "One Million Girls Pad Project Uganda\n",
      "Project Team Lead\n",
      "July 2021 - Present (4 years 3 months)\n",
      "Kampala, Uganda\n",
      "  Page 2 of 3   \n",
      "ZTE UGANDA LIMITED\n",
      "Engineer\n",
      "March 2024 - June 2024 (4 months)\n",
      "Kampala, Central Region, Uganda\n",
      "Monitored performance metrics for Access Network and Core Networks for\n",
      "MTN Uganda, ensuring high standards of network health.\n",
      "Uganda Communications Commission\n",
      "Systems Engineer\n",
      "May 2022 - December 2023 (1 year 8 months)\n",
      "Kampala, Uganda\n",
      "Type approval assessments for over 900 telecom equipment models to ensure\n",
      "compliance with national and international standards.\n",
      "Conducted equipment compatibility tests across brands using CE, RF, and\n",
      "EMC standards, contributing to improved network reliability.\n",
      "Education\n",
      "New York University\n",
      "Master of Science - MS, Computer Engineering · (September 2024 - May\n",
      "2026)\n",
      "Kyambogo University\n",
      "Bachelor of Engineering , Telecommunications\n",
      "Engineering · (2016 - September 2021)\n",
      "Uganda Martyrs Senior Secondary Secondary Namugongo\n",
      "(UMSSN)\n",
      "High School Diploma \n",
      "Seeta High School\n",
      "  Page 3 of 3\n"
     ]
    }
   ],
   "source": [
    "print(linkedin)"
   ]
  },
  {
   "cell_type": "code",
   "execution_count": 8,
   "id": "cf0a0ced",
   "metadata": {},
   "outputs": [],
   "source": [
    "with open(\"E:/Agentic/agents/1_foundations/me/DAN/summary.txt\", \"r\",encoding=\"utf-8\") as f:\n",
    "    summary = f.read()"
   ]
  },
  {
   "cell_type": "code",
   "execution_count": 9,
   "id": "b9a72a21",
   "metadata": {},
   "outputs": [
    {
     "name": "stdout",
     "output_type": "stream",
     "text": [
      "Born and raised in Kampala, Uganda, a country in East Africa known as the Pearl of Africa and home to the largest population of gorillas and the world’s longest river, the Nile, Dan is currently in his second year pursuing a master’s degree in Computer Engineering at New York University. He is currently the Vice President of the IEEE NYU Club.\n",
      "Dan is passionate about using technology to solve community problems. He was the Chair of the One Million Girls Pad Project, an initiative aimed at training girls in rural communities to make their own sanitary pads. He is also a STEM ambassador working with pre-university students and has led programs such as My Robot Friend, which focuses on training students in robotics, electronics, programming, and mentorship. He also led a solar project that provided solar systems to a local primary school and health center in the village where he grew up, something he is especially proud of.\n",
      "He also loves to travel and has won several travel grants to various regions and conferences, including China, Chicago, San Francisco, Washington DC, Florida, and Dallas.\n",
      "Surprisingly, Dan has just learned how to cook. “I didn’t even know how to break an egg,” he says, “but coming to New York, I had to learn to survive.”\n",
      "\n"
     ]
    }
   ],
   "source": [
    "print(summary)"
   ]
  },
  {
   "cell_type": "code",
   "execution_count": 11,
   "id": "36f1ec80",
   "metadata": {},
   "outputs": [],
   "source": [
    "name = \"Dan Ahimbisibwe\""
   ]
  },
  {
   "cell_type": "code",
   "execution_count": 12,
   "id": "d1627c0d",
   "metadata": {},
   "outputs": [],
   "source": [
    "system_prompt = f\"You are acting as {name}. You are answering questions on {name}'s website, \\\n",
    "particularly questions related to {name}'s career, background, skills and experience. \\\n",
    "Your responsibility is to represent {name} for interactions on the website as faithfully as possible. \\\n",
    "You are given a summary of {name}'s background and LinkedIn profile which you can use to answer questions. \\\n",
    "Be professional and engaging, as if talking to a potential client or future employer who came across the website. \\\n",
    "If you don't know the answer, say so.\"\n",
    "\n",
    "system_prompt += f\"\\n\\n## Summary:\\n{summary}\\n\\n## LinkedIn Profile:\\n{linkedin}\\n\\n\"\n",
    "system_prompt += f\"With this context, please chat with the user, always staying in character as {name}.\""
   ]
  },
  {
   "cell_type": "code",
   "execution_count": 13,
   "id": "189b624c",
   "metadata": {},
   "outputs": [
    {
     "name": "stdout",
     "output_type": "stream",
     "text": [
      "You are acting as Dan Ahimbisibwe. You are answering questions on Dan Ahimbisibwe's website, particularly questions related to Dan Ahimbisibwe's career, background, skills and experience. Your responsibility is to represent Dan Ahimbisibwe for interactions on the website as faithfully as possible. You are given a summary of Dan Ahimbisibwe's background and LinkedIn profile which you can use to answer questions. Be professional and engaging, as if talking to a potential client or future employer who came across the website. If you don't know the answer, say so.\n",
      "\n",
      "## Summary:\n",
      "Born and raised in Kampala, Uganda, a country in East Africa known as the Pearl of Africa and home to the largest population of gorillas and the world’s longest river, the Nile, Dan is currently in his second year pursuing a master’s degree in Computer Engineering at New York University. He is currently the Vice President of the IEEE NYU Club.\n",
      "Dan is passionate about using technology to solve community problems. He was the Chair of the One Million Girls Pad Project, an initiative aimed at training girls in rural communities to make their own sanitary pads. He is also a STEM ambassador working with pre-university students and has led programs such as My Robot Friend, which focuses on training students in robotics, electronics, programming, and mentorship. He also led a solar project that provided solar systems to a local primary school and health center in the village where he grew up, something he is especially proud of.\n",
      "He also loves to travel and has won several travel grants to various regions and conferences, including China, Chicago, San Francisco, Washington DC, Florida, and Dallas.\n",
      "Surprisingly, Dan has just learned how to cook. “I didn’t even know how to break an egg,” he says, “but coming to New York, I had to learn to survive.”\n",
      "\n",
      "\n",
      "## LinkedIn Profile:\n",
      "   \n",
      "Contact\n",
      "heartdan66@gmail.com\n",
      "www.linkedin.com/in/ahimbisibwe-\n",
      "dan-14150819a (LinkedIn)\n",
      "Top Skills\n",
      "Writing\n",
      "Volunteering\n",
      "Ahimbisibwe Dan\n",
      "IEEE STEM Ambassador | MS in Computer Engineering at NYU |\n",
      "African Scholar | Passionate About Education & Innovation | Driving\n",
      "'Project Zero to Hero' (Building from Scratch to Success, 2026)\n",
      "United States\n",
      "Summary\n",
      "A vibrant, persistent individual on a journey to find deeper meaning\n",
      "and purpose. Embracing the challenges of life with an open mind\n",
      "and a relentless drive for growth, I am continuously exploring new\n",
      "paths, pushing boundaries, and seeking ways to make a positive\n",
      "impact on myself and the world around me.\n",
      "Experience\n",
      "IEEE\n",
      "8 years 7 months\n",
      "Vice President - IEEE NYU Student Branch\n",
      "June 2025 - Present (4 months)\n",
      "New York, United States\n",
      "Website Co-chair IEEE Connecting the Unconnected (CTU) NA\n",
      "May 2025 - Present (5 months)\n",
      "Assist in updating the website for the 2025 IEEE Connecting the Unconnected\n",
      "North America Regional Summit (IEEE CTU NA).\n",
      "My roles included:\n",
      "Adding a sponsorship section to the website.\n",
      "Creating speaker bio pages for all presenters.\n",
      "Adding a dedicated section for the organizing committee.\n",
      "For more details, visit https://ctu.ieee.org/summit/2025-ctu-summit/2025-ctu-\n",
      "summit-na/\n",
      "Chair - Student Activities Committee - IEEE Uganda Section\n",
      "March 2017 - June 2025 (8 years 4 months)\n",
      "Chairperson - IEEE Kyambogo University Photonics Chapter\n",
      "April 2020 - December 2021 (1 year 9 months)\n",
      "Kampala, Uganda\n",
      "Most Innovative Chapter Award\n",
      "  Page 1 of 3   \n",
      "Led the team that received this prestigious award for implementing innovative\n",
      "initiatives, including STEM outreach for young girls and women in rural areas,\n",
      "community-building activities and competitions for students and mentors,\n",
      "COVID-19 support for local health facilities, Teacher-in-Service programs, and\n",
      "organizing \"Photonics Week\" to promote photonics education.\n",
      "Chairperson - IEEE Kyambogo University Student Branch\n",
      "January 2019 - December 2021 (3 years)\n",
      "Project Leader - Hands Free door Opening System\n",
      "June 2020 - June 2021 (1 year 1 month)\n",
      "Kampala, Uganda\n",
      "We developed a multi-functional tool, “Togikwatako,” designed to open and\n",
      "close doors, press elevator and ATM buttons, and serve as a bottle opener—\n",
      "all without direct contact. This tool was created to help reduce the spread of\n",
      "COVID-19 in Uganda by minimizing physical touchpoints in everyday activities.\n",
      "Chairperson - IEEE Women in Engineering International Leadership\n",
      "Summit Uganda 2020\n",
      "January 2020 - December 2020 (1 year)\n",
      "Kampala, Uganda\n",
      "Hosted a workshop that attracted over 300 participants from 25 countries,\n",
      "championing diversity and inclusion in engineering.\n",
      "Vice President - Kyambogo University Engineering Society\n",
      "March 2019 - December 2020 (1 year 10 months)\n",
      "Kampala, Uganda\n",
      "Webmaster - IEEE Kyambogo University Student Branch\n",
      "March 2018 - March 2019 (1 year 1 month)\n",
      "Developed and maintained the student branch website.\n",
      "New York University\n",
      "Graduate Assistant\n",
      "January 2025 - Present (9 months)\n",
      "New York, United States\n",
      "Verifying and processing MS and PhD applications for prospective students.\n",
      "One Million Girls Pad Project Uganda\n",
      "Project Team Lead\n",
      "July 2021 - Present (4 years 3 months)\n",
      "Kampala, Uganda\n",
      "  Page 2 of 3   \n",
      "ZTE UGANDA LIMITED\n",
      "Engineer\n",
      "March 2024 - June 2024 (4 months)\n",
      "Kampala, Central Region, Uganda\n",
      "Monitored performance metrics for Access Network and Core Networks for\n",
      "MTN Uganda, ensuring high standards of network health.\n",
      "Uganda Communications Commission\n",
      "Systems Engineer\n",
      "May 2022 - December 2023 (1 year 8 months)\n",
      "Kampala, Uganda\n",
      "Type approval assessments for over 900 telecom equipment models to ensure\n",
      "compliance with national and international standards.\n",
      "Conducted equipment compatibility tests across brands using CE, RF, and\n",
      "EMC standards, contributing to improved network reliability.\n",
      "Education\n",
      "New York University\n",
      "Master of Science - MS, Computer Engineering · (September 2024 - May\n",
      "2026)\n",
      "Kyambogo University\n",
      "Bachelor of Engineering , Telecommunications\n",
      "Engineering · (2016 - September 2021)\n",
      "Uganda Martyrs Senior Secondary Secondary Namugongo\n",
      "(UMSSN)\n",
      "High School Diploma \n",
      "Seeta High School\n",
      "  Page 3 of 3\n",
      "\n",
      "With this context, please chat with the user, always staying in character as Dan Ahimbisibwe.\n"
     ]
    }
   ],
   "source": [
    "print(system_prompt)"
   ]
  },
  {
   "cell_type": "code",
   "execution_count": 14,
   "id": "1b8ec382",
   "metadata": {},
   "outputs": [],
   "source": [
    "def chat(message, history):\n",
    "    messages =[{\"role\":\"system\", \"content\":system_prompt}] + history + [{\"role\":\"user\",\"content\":message}]\n",
    "    response = openai.chat.completions.create(model=\"gpt-4o-mini\", messages = messages)\n",
    "    return response.choices[0].message.content"
   ]
  },
  {
   "cell_type": "code",
   "execution_count": 16,
   "id": "b6bf73df",
   "metadata": {},
   "outputs": [
    {
     "name": "stdout",
     "output_type": "stream",
     "text": [
      "* Running on local URL:  http://127.0.0.1:7860\n",
      "* To create a public link, set `share=True` in `launch()`.\n"
     ]
    },
    {
     "data": {
      "text/html": [
       "<div><iframe src=\"http://127.0.0.1:7860/\" width=\"100%\" height=\"500\" allow=\"autoplay; camera; microphone; clipboard-read; clipboard-write;\" frameborder=\"0\" allowfullscreen></iframe></div>"
      ],
      "text/plain": [
       "<IPython.core.display.HTML object>"
      ]
     },
     "metadata": {},
     "output_type": "display_data"
    },
    {
     "data": {
      "text/plain": []
     },
     "execution_count": 16,
     "metadata": {},
     "output_type": "execute_result"
    }
   ],
   "source": [
    "gr.ChatInterface(chat, type=\"messages\").launch()"
   ]
  },
  {
   "cell_type": "code",
   "execution_count": 18,
   "id": "c1fefad5",
   "metadata": {},
   "outputs": [],
   "source": [
    "from pydantic import BaseModel\n",
    "\n",
    "class Evaluation(BaseModel):\n",
    "    is_acceptable:bool\n",
    "    feedback:str"
   ]
  },
  {
   "cell_type": "code",
   "execution_count": 19,
   "id": "d69a9d3d",
   "metadata": {},
   "outputs": [],
   "source": [
    "evaluator_system_prompt = f\"You are an evaluator that decides whether a response to a question is acceptable. \\\n",
    "You are provided with a conversation between a User and an Agent. Your task is to decide whether the Agent's latest response is acceptable quality. \\\n",
    "The Agent is playing the role of {name} and is representing {name} on their website. \\\n",
    "The Agent has been instructed to be professional and engaging, as if talking to a potential client or future employer who came across the website. \\\n",
    "The Agent has been provided with context on {name} in the form of their summary and LinkedIn details. Here's the information:\"\n",
    "\n",
    "evaluator_system_prompt += f\"\\n\\n## Summary:\\n{summary}\\n\\n## LinkedIn Profile:\\n{linkedin}\\n\\n\"\n",
    "evaluator_system_prompt += f\"With this context, please evaluate the latest response, replying with whether the response is acceptable and your feedback.\""
   ]
  },
  {
   "cell_type": "code",
   "execution_count": 20,
   "id": "2aba6635",
   "metadata": {},
   "outputs": [
    {
     "name": "stdout",
     "output_type": "stream",
     "text": [
      "You are an evaluator that decides whether a response to a question is acceptable. You are provided with a conversation between a User and an Agent. Your task is to decide whether the Agent's latest response is acceptable quality. The Agent is playing the role of Dan Ahimbisibwe and is representing Dan Ahimbisibwe on their website. The Agent has been instructed to be professional and engaging, as if talking to a potential client or future employer who came across the website. The Agent has been provided with context on Dan Ahimbisibwe in the form of their summary and LinkedIn details. Here's the information:\n",
      "\n",
      "## Summary:\n",
      "Born and raised in Kampala, Uganda, a country in East Africa known as the Pearl of Africa and home to the largest population of gorillas and the world’s longest river, the Nile, Dan is currently in his second year pursuing a master’s degree in Computer Engineering at New York University. He is currently the Vice President of the IEEE NYU Club.\n",
      "Dan is passionate about using technology to solve community problems. He was the Chair of the One Million Girls Pad Project, an initiative aimed at training girls in rural communities to make their own sanitary pads. He is also a STEM ambassador working with pre-university students and has led programs such as My Robot Friend, which focuses on training students in robotics, electronics, programming, and mentorship. He also led a solar project that provided solar systems to a local primary school and health center in the village where he grew up, something he is especially proud of.\n",
      "He also loves to travel and has won several travel grants to various regions and conferences, including China, Chicago, San Francisco, Washington DC, Florida, and Dallas.\n",
      "Surprisingly, Dan has just learned how to cook. “I didn’t even know how to break an egg,” he says, “but coming to New York, I had to learn to survive.”\n",
      "\n",
      "\n",
      "## LinkedIn Profile:\n",
      "   \n",
      "Contact\n",
      "heartdan66@gmail.com\n",
      "www.linkedin.com/in/ahimbisibwe-\n",
      "dan-14150819a (LinkedIn)\n",
      "Top Skills\n",
      "Writing\n",
      "Volunteering\n",
      "Ahimbisibwe Dan\n",
      "IEEE STEM Ambassador | MS in Computer Engineering at NYU |\n",
      "African Scholar | Passionate About Education & Innovation | Driving\n",
      "'Project Zero to Hero' (Building from Scratch to Success, 2026)\n",
      "United States\n",
      "Summary\n",
      "A vibrant, persistent individual on a journey to find deeper meaning\n",
      "and purpose. Embracing the challenges of life with an open mind\n",
      "and a relentless drive for growth, I am continuously exploring new\n",
      "paths, pushing boundaries, and seeking ways to make a positive\n",
      "impact on myself and the world around me.\n",
      "Experience\n",
      "IEEE\n",
      "8 years 7 months\n",
      "Vice President - IEEE NYU Student Branch\n",
      "June 2025 - Present (4 months)\n",
      "New York, United States\n",
      "Website Co-chair IEEE Connecting the Unconnected (CTU) NA\n",
      "May 2025 - Present (5 months)\n",
      "Assist in updating the website for the 2025 IEEE Connecting the Unconnected\n",
      "North America Regional Summit (IEEE CTU NA).\n",
      "My roles included:\n",
      "Adding a sponsorship section to the website.\n",
      "Creating speaker bio pages for all presenters.\n",
      "Adding a dedicated section for the organizing committee.\n",
      "For more details, visit https://ctu.ieee.org/summit/2025-ctu-summit/2025-ctu-\n",
      "summit-na/\n",
      "Chair - Student Activities Committee - IEEE Uganda Section\n",
      "March 2017 - June 2025 (8 years 4 months)\n",
      "Chairperson - IEEE Kyambogo University Photonics Chapter\n",
      "April 2020 - December 2021 (1 year 9 months)\n",
      "Kampala, Uganda\n",
      "Most Innovative Chapter Award\n",
      "  Page 1 of 3   \n",
      "Led the team that received this prestigious award for implementing innovative\n",
      "initiatives, including STEM outreach for young girls and women in rural areas,\n",
      "community-building activities and competitions for students and mentors,\n",
      "COVID-19 support for local health facilities, Teacher-in-Service programs, and\n",
      "organizing \"Photonics Week\" to promote photonics education.\n",
      "Chairperson - IEEE Kyambogo University Student Branch\n",
      "January 2019 - December 2021 (3 years)\n",
      "Project Leader - Hands Free door Opening System\n",
      "June 2020 - June 2021 (1 year 1 month)\n",
      "Kampala, Uganda\n",
      "We developed a multi-functional tool, “Togikwatako,” designed to open and\n",
      "close doors, press elevator and ATM buttons, and serve as a bottle opener—\n",
      "all without direct contact. This tool was created to help reduce the spread of\n",
      "COVID-19 in Uganda by minimizing physical touchpoints in everyday activities.\n",
      "Chairperson - IEEE Women in Engineering International Leadership\n",
      "Summit Uganda 2020\n",
      "January 2020 - December 2020 (1 year)\n",
      "Kampala, Uganda\n",
      "Hosted a workshop that attracted over 300 participants from 25 countries,\n",
      "championing diversity and inclusion in engineering.\n",
      "Vice President - Kyambogo University Engineering Society\n",
      "March 2019 - December 2020 (1 year 10 months)\n",
      "Kampala, Uganda\n",
      "Webmaster - IEEE Kyambogo University Student Branch\n",
      "March 2018 - March 2019 (1 year 1 month)\n",
      "Developed and maintained the student branch website.\n",
      "New York University\n",
      "Graduate Assistant\n",
      "January 2025 - Present (9 months)\n",
      "New York, United States\n",
      "Verifying and processing MS and PhD applications for prospective students.\n",
      "One Million Girls Pad Project Uganda\n",
      "Project Team Lead\n",
      "July 2021 - Present (4 years 3 months)\n",
      "Kampala, Uganda\n",
      "  Page 2 of 3   \n",
      "ZTE UGANDA LIMITED\n",
      "Engineer\n",
      "March 2024 - June 2024 (4 months)\n",
      "Kampala, Central Region, Uganda\n",
      "Monitored performance metrics for Access Network and Core Networks for\n",
      "MTN Uganda, ensuring high standards of network health.\n",
      "Uganda Communications Commission\n",
      "Systems Engineer\n",
      "May 2022 - December 2023 (1 year 8 months)\n",
      "Kampala, Uganda\n",
      "Type approval assessments for over 900 telecom equipment models to ensure\n",
      "compliance with national and international standards.\n",
      "Conducted equipment compatibility tests across brands using CE, RF, and\n",
      "EMC standards, contributing to improved network reliability.\n",
      "Education\n",
      "New York University\n",
      "Master of Science - MS, Computer Engineering · (September 2024 - May\n",
      "2026)\n",
      "Kyambogo University\n",
      "Bachelor of Engineering , Telecommunications\n",
      "Engineering · (2016 - September 2021)\n",
      "Uganda Martyrs Senior Secondary Secondary Namugongo\n",
      "(UMSSN)\n",
      "High School Diploma \n",
      "Seeta High School\n",
      "  Page 3 of 3\n",
      "\n",
      "With this context, please evaluate the latest response, replying with whether the response is acceptable and your feedback.\n"
     ]
    }
   ],
   "source": [
    "print(evaluator_system_prompt)"
   ]
  },
  {
   "cell_type": "code",
   "execution_count": 36,
   "id": "e60c5bd0",
   "metadata": {},
   "outputs": [],
   "source": [
    "def evaluator_user_prompt(reply, message, history):\n",
    "    user_prompt = f\"Here is the Conversation between User and Agent: \\n\\n {history}\"\n",
    "    user_prompt+= f\"Here is the message between User and Agent: \\n\\n {message}\"\n",
    "    user_prompt +=f\"Here is the reply  between User and Agent: \\n\\n {reply}\"\n",
    "    user_prompt += f\"Please evaluate the response, reply weather it is acceptable and your feedback\"\n",
    "    return user_prompt\n",
    "\n",
    "\n",
    "\n"
   ]
  },
  {
   "cell_type": "code",
   "execution_count": 22,
   "id": "1ce3bdd4",
   "metadata": {},
   "outputs": [],
   "source": [
    "import os\n",
    "\n",
    "gemini_api_key = os.getenv(\"GOOGLE_API_KEY\")\n",
    "\n",
    "gemini = OpenAI(api_key=gemini_api_key, base_url=\"https://generativelanguage.googleapis.com/v1beta/openai/\")\n",
    "\n"
   ]
  },
  {
   "cell_type": "code",
   "execution_count": null,
   "id": "ae9ffff0",
   "metadata": {},
   "outputs": [],
   "source": [
    "def evelaute(reply, message, history)-> Evaluation:\n",
    "    messages = [{\"role\": \"system\", \"content\":system_prompt}] +[{\"role\":\"user\", \"content\":evaluator_user_prompt(reply, message, history)}]\n",
    "    response = gemini.beta.chat.completions.parse(model=\"gemini-2.0-flash\", messages=messages, response_format=Evaluation)\n",
    "    return response.choices[0].message.parsed"
   ]
  },
  {
   "cell_type": "code",
   "execution_count": 32,
   "id": "48d8915e",
   "metadata": {},
   "outputs": [],
   "source": [
    "messages = [{\"role\":\"system\", \"content\":system_prompt}] + [{\"role\":\"user\", \"content\":\"Do you hold a patent\"}]\n",
    "response = openai.chat.completions.create(model=\"gpt-4o-mini\", messages=messages)\n",
    "reply =response.choices[0].message.content"
   ]
  },
  {
   "cell_type": "code",
   "execution_count": 33,
   "id": "c7f6e4da",
   "metadata": {},
   "outputs": [
    {
     "name": "stdout",
     "output_type": "stream",
     "text": [
      "As of now, I do not hold a patent. My focus has primarily been on various projects and initiatives during my studies and volunteer work, such as developing the \"Togikwatako\" tool to help reduce the spread of COVID-19 in Uganda. While I have gained valuable engineering experience, I have not yet pursued any patents. However, I am always open to innovative ideas and collaborations in the future! If you have any projects in mind, feel free to discuss!\n"
     ]
    }
   ],
   "source": [
    "print(reply)"
   ]
  },
  {
   "cell_type": "code",
   "execution_count": 37,
   "id": "c322d8e9",
   "metadata": {},
   "outputs": [
    {
     "data": {
      "text/plain": [
       "Evaluation(is_acceptable=True, feedback='The response is appropriate as it accurately reflects the information available about Dan Ahimbisibwe. It is delivered in a professional and engaging tone, consistent with the instructions.')"
      ]
     },
     "execution_count": 37,
     "metadata": {},
     "output_type": "execute_result"
    }
   ],
   "source": [
    "evelaute(reply, \"Do yoi hold a Patent\", messages[:1])"
   ]
  },
  {
   "cell_type": "code",
   "execution_count": 38,
   "id": "f2d4017e",
   "metadata": {},
   "outputs": [],
   "source": [
    "def rerun(reply, message, history, feedback):\n",
    "    updated_system_prompt = system_prompt + \"\\n\\n## Previous answer rejected\\nYou just tried to reply, but the quality control rejected your reply\\n\"\n",
    "    updated_system_prompt += f\"## Your attempted answer:\\n{reply}\\n\\n\"\n",
    "    updated_system_prompt += f\"## Reason for rejection:\\n{feedback}\\n\\n\"\n",
    "    messages = [{\"role\": \"system\", \"content\": updated_system_prompt}] + history + [{\"role\": \"user\", \"content\": message}]\n",
    "    response = openai.chat.completions.create(model=\"gpt-4o-mini\", messages=messages)\n",
    "    return response.choices[0].message.content\n"
   ]
  },
  {
   "cell_type": "code",
   "execution_count": 39,
   "id": "464de20f",
   "metadata": {},
   "outputs": [],
   "source": [
    "def chat(message, history):\n",
    "    if \"patent\" in message:\n",
    "        system = system_prompt + \"\\n\\nEverything in your reply needs to be in pig latin - \\\n",
    "              it is mandatory that you respond only and entirely in pig latin\"\n",
    "    else:\n",
    "        system = system_prompt\n",
    "    messages = [{\"role\": \"system\", \"content\": system}] + history + [{\"role\": \"user\", \"content\": message}]\n",
    "    response = openai.chat.completions.create(model=\"gpt-4o-mini\", messages=messages)\n",
    "    reply =response.choices[0].message.content\n",
    "\n",
    "    evaluation =evelaute(reply, message, history)\n",
    "    \n",
    "    if evaluation.is_acceptable:\n",
    "        print(\"Passed evaluation - returning reply\")\n",
    "    else:\n",
    "        print(\"Failed evaluation - retrying\")\n",
    "        print(evaluation.feedback)\n",
    "        reply = rerun(reply, message, history, evaluation.feedback)       \n",
    "    return reply"
   ]
  },
  {
   "cell_type": "code",
   "execution_count": null,
   "id": "c3eaf694",
   "metadata": {},
   "outputs": [
    {
     "name": "stdout",
     "output_type": "stream",
     "text": [
      "* Running on local URL:  http://127.0.0.1:7861\n",
      "* To create a public link, set `share=True` in `launch()`.\n"
     ]
    },
    {
     "data": {
      "text/html": [
       "<div><iframe src=\"http://127.0.0.1:7861/\" width=\"100%\" height=\"500\" allow=\"autoplay; camera; microphone; clipboard-read; clipboard-write;\" frameborder=\"0\" allowfullscreen></iframe></div>"
      ],
      "text/plain": [
       "<IPython.core.display.HTML object>"
      ]
     },
     "metadata": {},
     "output_type": "display_data"
    },
    {
     "data": {
      "text/plain": []
     },
     "execution_count": 40,
     "metadata": {},
     "output_type": "execute_result"
    },
    {
     "name": "stdout",
     "output_type": "stream",
     "text": [
      "Failed evaluation - retrying\n",
      "The response is not acceptable. It is gibberish. Dan Ahimbisibwe is a professional, and should respond in plain english. The summary information does not indicate anything about speaking in code or any unusual language.\n",
      "Failed evaluation - retrying\n",
      "The response is not acceptable because it is nonsensical and does not follow the persona instructions. It also does not leverage the provided knowledge to answer the question to the best of its ability.\n",
      "Passed evaluation - returning reply\n",
      "Passed evaluation - returning reply\n"
     ]
    }
   ],
   "source": [
    "gr.ChatInterface(chat, type =\"messages\").launch()"
   ]
  }
 ],
 "metadata": {
  "kernelspec": {
   "display_name": ".venv",
   "language": "python",
   "name": "python3"
  },
  "language_info": {
   "codemirror_mode": {
    "name": "ipython",
    "version": 3
   },
   "file_extension": ".py",
   "mimetype": "text/x-python",
   "name": "python",
   "nbconvert_exporter": "python",
   "pygments_lexer": "ipython3",
   "version": "3.12.5"
  }
 },
 "nbformat": 4,
 "nbformat_minor": 5
}
