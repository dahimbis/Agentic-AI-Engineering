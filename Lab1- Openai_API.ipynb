{
 "cells": [
  {
   "cell_type": "code",
   "execution_count": 4,
   "id": "c310c87f",
   "metadata": {},
   "outputs": [
    {
     "name": "stdout",
     "output_type": "stream",
     "text": [
      "sk-proj-0z\n",
      "An \"agentic AI\" refers to an artificial intelligence system that has a degree of autonomy and decision-making capability, allowing it to set and pursue its own goals based on its programming and learning. \n",
      "\n",
      "On the other hand, \"AI agents\" are software entities designed to perform specific tasks or functions, often acting on behalf of a user or system, but they may not possess the same level of autonomy or self-directed goal setting as agentic AIs. \n",
      "\n",
      "In summary, agentic AI has more independence in decision-making, while AI agents typically follow predefined instructions.\n"
     ]
    }
   ],
   "source": [
    "from pyexpat.errors import messages\n",
    "from dotenv import load_dotenv\n",
    "\n",
    "load_dotenv(override=True)\n",
    "\n",
    "import os \n",
    "\n",
    "openai_api_key = os.getenv(\"OPENAI_API_KEY\")\n",
    "if openai_api_key:\n",
    "    print(openai_api_key[:10])\n",
    "else:\n",
    "    print(\"Open AI key is Missing\")\n",
    "\n",
    "\n",
    "from openai import OpenAI\n",
    "\n",
    "openai =OpenAI()\n",
    "\n",
    "message =[{\"role\":\"user\",\"content\":\" In simple statement - what is an agentic ai vs ai agents\"}]\n",
    "\n",
    "response = openai.chat.completions.create(\n",
    "    model =\"gpt-4o-mini\",\n",
    "    messages = message\n",
    "\n",
    ")\n",
    "\n",
    "question = response.choices[0].message.content\n",
    "\n",
    "print(question)\n"
   ]
  }
 ],
 "metadata": {
  "kernelspec": {
   "display_name": ".venv",
   "language": "python",
   "name": "python3"
  },
  "language_info": {
   "codemirror_mode": {
    "name": "ipython",
    "version": 3
   },
   "file_extension": ".py",
   "mimetype": "text/x-python",
   "name": "python",
   "nbconvert_exporter": "python",
   "pygments_lexer": "ipython3",
   "version": "3.12.5"
  }
 },
 "nbformat": 4,
 "nbformat_minor": 5
}
