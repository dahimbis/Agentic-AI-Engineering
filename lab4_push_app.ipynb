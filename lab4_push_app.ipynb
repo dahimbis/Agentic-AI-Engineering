{
 "cells": [
  {
   "cell_type": "code",
   "execution_count": 11,
   "id": "6cc206a0",
   "metadata": {},
   "outputs": [],
   "source": [
    "import os \n",
    "import gradio as gr\n",
    "from openai import OpenAI\n",
    "from PyPDF2 import PdfReader\n",
    "from dotenv import load_dotenv\n",
    "import json\n",
    "import requests\n",
    "\n",
    "\n"
   ]
  },
  {
   "cell_type": "code",
   "execution_count": 12,
   "id": "282575b5",
   "metadata": {},
   "outputs": [],
   "source": [
    "load_dotenv(override=True)\n",
    "\n",
    "openai=OpenAI()\n"
   ]
  },
  {
   "cell_type": "code",
   "execution_count": 13,
   "id": "d6464c6e",
   "metadata": {},
   "outputs": [
    {
     "name": "stdout",
     "output_type": "stream",
     "text": [
      "Push Over Useruhz6hf38\n",
      "Pushover_tokenan2pq4pnf4obfu8bvmy8u218rre96p\n"
     ]
    }
   ],
   "source": [
    "pushover_user = os.getenv(\"PUSHOVER_USER\")\n",
    "pushover_token = os.getenv(\"PUSHOVER_TOKEN\")\n",
    "pushover_url= \"https://api.pushover.net/1/messages.json\"\n",
    "\n",
    "if pushover_user:\n",
    "    print(f\"Push Over User{pushover_user[:8]}\")\n",
    "else:\n",
    "    print(\"Push Over user not Found\")\n",
    "if pushover_token:\n",
    "    print(f\"Pushover_token{pushover_token}\")\n",
    "else:\n",
    "    print(\"Push Over Token not found\")"
   ]
  },
  {
   "cell_type": "code",
   "execution_count": 14,
   "id": "57a627ae",
   "metadata": {},
   "outputs": [],
   "source": [
    "def push(message):\n",
    "    print(f\"Push: {message}\")\n",
    "    payload={\"user\":pushover_user, \"token\":pushover_token, \"message\":message}\n",
    "    requests.post(pushover_url, data = payload)"
   ]
  },
  {
   "cell_type": "code",
   "execution_count": 15,
   "id": "809215c5",
   "metadata": {},
   "outputs": [
    {
     "name": "stdout",
     "output_type": "stream",
     "text": [
      "Push: HEY\n"
     ]
    }
   ],
   "source": [
    "push(\"HEY\")"
   ]
  },
  {
   "cell_type": "code",
   "execution_count": 17,
   "id": "d921e10c",
   "metadata": {},
   "outputs": [],
   "source": [
    "def record_user_details(email, name =\"Name not Provided\", notes=\"not Provided\"):\n",
    "    push(f\"Recording Interest from {name} with emil and notes {notes}\")\n",
    "    return {\"recorded\":\"ok\"}"
   ]
  },
  {
   "cell_type": "code",
   "execution_count": 18,
   "id": "8ffd9d5c",
   "metadata": {},
   "outputs": [],
   "source": [
    "def record_unknown_question(question):\n",
    "    push(f\"Recording {question} asked that I couldnot answer\")\n",
    "    return{\"recorded\":\"ok\"}\n"
   ]
  },
  {
   "cell_type": "code",
   "execution_count": 21,
   "id": "bfc9404b",
   "metadata": {},
   "outputs": [],
   "source": [
    "record_user_details_json={\n",
    "    \"name\":\"record_user_details\",\n",
    "    \"description\":\"use this tool to recotd that a user is interested in bein in touch and povided an email adress\",\n",
    "    \"parameters\":{\n",
    "        \"type\":\"object\",\n",
    "        \"properties\":{\n",
    "            \"email\":{\n",
    "                \"type\":\"string\",\n",
    "                \"description\":\"The email address of the user\"\n",
    "            },\n",
    "            \"name\":{\n",
    "                \"type\":\"string\",\n",
    "                \"description\":\"The user's name, if they provide it\"\n",
    "            },\n",
    "            \"notes\":{\n",
    "                \"type\":\"string\",\n",
    "                \"description\":\"Any Additional information about the conversation that is worth recording\"\n",
    "            }\n",
    "\n",
    "        },\n",
    "        \"required\": [\"email\"],\n",
    "        \"additionalProperties\":False\n",
    "    }\n",
    "}"
   ]
  },
  {
   "cell_type": "code",
   "execution_count": 22,
   "id": "45caa895",
   "metadata": {},
   "outputs": [
    {
     "data": {
      "text/plain": [
       "{'name': 'record_user_details',\n",
       " 'description': 'use this tool to recotd that a user is interested in bein in touch and povided an email adress',\n",
       " 'parameters': {'type': 'object',\n",
       "  'properties': {'email': {'type': 'string',\n",
       "    'description': 'The email address of the user'},\n",
       "   'name': {'type': 'string',\n",
       "    'description': \"The user's name, if they provide it\"},\n",
       "   'notes': {'type': 'string',\n",
       "    'description': 'Any Additional information about the conversation that is worth recording'}},\n",
       "  'required': ['email'],\n",
       "  'additionalProperties': False}}"
      ]
     },
     "execution_count": 22,
     "metadata": {},
     "output_type": "execute_result"
    }
   ],
   "source": [
    "record_user_details_json"
   ]
  },
  {
   "cell_type": "code",
   "execution_count": 24,
   "id": "3c4eeb71",
   "metadata": {},
   "outputs": [],
   "source": [
    "record_unknown_question_json={\n",
    "    \"name\":\"record_unknown_question\",\n",
    "    \"description\":\"Always use tool to record any question that couldnt be answered as you didnt know\",\n",
    "    \"parameters\":{\n",
    "        \"type\":\"object\",\n",
    "        \"properties\":{\n",
    "            \"question\":{\n",
    "                \"type\":\"string\",\n",
    "                \"description\":\"The questio that couldnot be answered\"\n",
    "            },\n",
    "        },\n",
    "        \"required\": [\"question\"],\n",
    "        \"additionalProperties\":False\n",
    "    }\n",
    "}"
   ]
  },
  {
   "cell_type": "code",
   "execution_count": 25,
   "id": "601aef21",
   "metadata": {},
   "outputs": [
    {
     "data": {
      "text/plain": [
       "{'name': 'record_unknown_question',\n",
       " 'description': 'Always use tool to record any question that couldnt be answered as you didnt know',\n",
       " 'parameters': {'type': 'object',\n",
       "  'properties': {'question': {'type': 'string',\n",
       "    'description': 'The questio that couldnot be answered'}},\n",
       "  'required': ['question'],\n",
       "  'additionalProperties': False}}"
      ]
     },
     "execution_count": 25,
     "metadata": {},
     "output_type": "execute_result"
    }
   ],
   "source": [
    "record_unknown_question_json"
   ]
  },
  {
   "cell_type": "code",
   "execution_count": 26,
   "id": "a00dba6d",
   "metadata": {},
   "outputs": [],
   "source": [
    "tools =[\n",
    "    {\"type\":\"function\",\"function\":record_user_details_json},\n",
    "    {\"type\":\"function\",\"function\":record_unknown_question_json}\n",
    "]"
   ]
  },
  {
   "cell_type": "code",
   "execution_count": 27,
   "id": "ffb2e26a",
   "metadata": {},
   "outputs": [
    {
     "data": {
      "text/plain": [
       "[{'type': 'function',\n",
       "  'function': {'name': 'record_user_details',\n",
       "   'description': 'use this tool to recotd that a user is interested in bein in touch and povided an email adress',\n",
       "   'parameters': {'type': 'object',\n",
       "    'properties': {'email': {'type': 'string',\n",
       "      'description': 'The email address of the user'},\n",
       "     'name': {'type': 'string',\n",
       "      'description': \"The user's name, if they provide it\"},\n",
       "     'notes': {'type': 'string',\n",
       "      'description': 'Any Additional information about the conversation that is worth recording'}},\n",
       "    'required': ['email'],\n",
       "    'additionalProperties': False}}},\n",
       " {'type': 'function',\n",
       "  'function': {'name': 'record_unknown_question',\n",
       "   'description': 'Always use tool to record any question that couldnt be answered as you didnt know',\n",
       "   'parameters': {'type': 'object',\n",
       "    'properties': {'question': {'type': 'string',\n",
       "      'description': 'The questio that couldnot be answered'}},\n",
       "    'required': ['question'],\n",
       "    'additionalProperties': False}}}]"
      ]
     },
     "execution_count": 27,
     "metadata": {},
     "output_type": "execute_result"
    }
   ],
   "source": [
    "tools"
   ]
  },
  {
   "cell_type": "code",
   "execution_count": 30,
   "id": "45e812b4",
   "metadata": {},
   "outputs": [],
   "source": [
    "# This function takes list of tools, and run them \n",
    "\n",
    "def handle_too_calls(tool_calls):\n",
    "    results=[]\n",
    "    for tool_call in tool_calls:\n",
    "        tool_name = tool_call.function.name\n",
    "        arguments = json.loads(tool_call.function.arguments)\n",
    "        print(f\"Tool Called: {tool_name}\", flush=True)\n",
    "\n",
    "        if tool_name==\"record_user_details\":\n",
    "            result = record_user_details(**arguments)\n",
    "        if tool_name ==\"record_unknown_question\":\n",
    "            result = record_unknown_question(**arguments)\n",
    "        \n",
    "        results.append({\"role\":\"tool\", \"content\":json.dumps(result), \"tool_call_id\":tool_call.id})\n",
    "        return results"
   ]
  },
  {
   "cell_type": "code",
   "execution_count": null,
   "id": "1dd7ee04",
   "metadata": {},
   "outputs": [],
   "source": [
    "reader = PdfReader(\"E:/Agentic/agents/1_foundations/me/Profile.pdf\")\n",
    "\n",
    "linkedin =\"\"\n",
    "\n",
    "for page in reader.pages:\n",
    "    text = page.extract_text()\n",
    "    if text:\n",
    "        linkedin +=text\n",
    "\n",
    "\n",
    "with open(\"E:/Agentic/agents/1_foundations/me/summary.txt\", \"r\", encoding=\"utf-8\") as f:\n",
    "\n",
    "    summary = f.reader()\n",
    "\n",
    "\n",
    "name = \"Dan Ahimbisibwe\"\n"
   ]
  },
  {
   "cell_type": "code",
   "execution_count": null,
   "id": "40c526cd",
   "metadata": {},
   "outputs": [],
   "source": []
  }
 ],
 "metadata": {
  "kernelspec": {
   "display_name": ".venv",
   "language": "python",
   "name": "python3"
  },
  "language_info": {
   "codemirror_mode": {
    "name": "ipython",
    "version": 3
   },
   "file_extension": ".py",
   "mimetype": "text/x-python",
   "name": "python",
   "nbconvert_exporter": "python",
   "pygments_lexer": "ipython3",
   "version": "3.12.5"
  }
 },
 "nbformat": 4,
 "nbformat_minor": 5
}
