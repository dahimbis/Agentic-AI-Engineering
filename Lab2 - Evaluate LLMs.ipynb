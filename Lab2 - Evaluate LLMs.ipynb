{
 "cells": [
  {
   "cell_type": "code",
   "execution_count": 24,
   "id": "c310c87f",
   "metadata": {},
   "outputs": [
    {
     "name": "stdout",
     "output_type": "stream",
     "text": [
      "sk-proj-0z\n",
      "Sure! Here’s a question that an aspiring engineer and problem solver could pose to five different language models (LLMs) to gather diverse insights on fields where AI can make a significant difference:\n",
      "\n",
      "**Question: \"In which specific fields do you think artificial intelligence can make the most meaningful impact in the next decade, and can you provide examples of potential applications within those fields?\"**\n",
      "\n",
      "This question allows each LLM to explore various industries, highlighting their unique perspectives and examples of how AI can be implemented to solve problems or improve processes.\n"
     ]
    }
   ],
   "source": [
    "from pyexpat.errors import messages\n",
    "from dotenv import load_dotenv\n",
    "\n",
    "load_dotenv(override=True)\n",
    "\n",
    "import os \n",
    "\n",
    "openai_api_key = os.getenv(\"OPENAI_API_KEY\")\n",
    "gemini_api_key =os.getenv(\"GOOGLE_API_KEY\")\n",
    "groq_api_key =os.getenv(\"GROQ_API_KEY\")\n",
    "\n",
    "\n",
    "if openai_api_key:\n",
    "    print(openai_api_key[:10])\n",
    "else:\n",
    "    print(\"Open AI key is Missing\")\n",
    "\n",
    "\n",
    "from openai import OpenAI\n",
    "\n",
    "openai =OpenAI()\n",
    "\n",
    "question = \"As an aspiring Engineer and Problem Solver - Qive a questions that will be evealuated by Five LLMS to give answers - Each will give the field that they think ai can make a difference\"\n",
    "\n",
    "message =[{\"role\":\"user\",\"content\":question}]\n",
    "\n",
    "response = openai.chat.completions.create(\n",
    "    model =\"gpt-4o-mini\",\n",
    "    messages = message\n",
    "\n",
    ")\n",
    "\n",
    "question = response.choices[0].message.content\n",
    "\n",
    "print(question)\n"
   ]
  },
  {
   "cell_type": "code",
   "execution_count": 26,
   "id": "797375f1",
   "metadata": {},
   "outputs": [],
   "source": [
    "\n",
    "\n",
    "competitors = []\n",
    "answers = []\n",
    "\n",
    "messages = [{\"role\":\"user\", \"content\":question}]"
   ]
  },
  {
   "cell_type": "code",
   "execution_count": 27,
   "id": "83e62b68",
   "metadata": {},
   "outputs": [
    {
     "name": "stdout",
     "output_type": "stream",
     "text": [
      "That’s a great question for generating insights on the potential impact of AI across different fields. Here are some areas where AI may have a significant impact over the next decade, along with examples of potential applications:\n",
      "\n",
      "1. **Healthcare:**\n",
      "   - *Personalized Medicine:* AI can analyze patient data to recommend tailored treatment plans based on individual genetic profiles and health histories.\n",
      "   - *Diagnostics:* Machine learning algorithms can assist in analyzing medical images (e.g., X-rays, MRIs) to detect diseases like cancer at earlier stages than human practitioners might.\n",
      "\n",
      "2. **Transportation:**\n",
      "   - *Autonomous Vehicles:* AI systems can enable self-driving cars to navigate safely by processing data from sensors and learning from vast amounts of driving data to improve decision-making.\n",
      "   - *Traffic Management:* AI can optimize traffic flow in urban areas by analyzing data from traffic cameras and sensors to adjust signals in real-time, reducing congestion and emissions.\n",
      "\n",
      "3. **Finance:**\n",
      "   - *Fraud Detection:* AI algorithms can monitor transactions in real-time to identify unusual patterns that may indicate fraudulent activity, providing immediate alerts to financial institutions.\n",
      "   - *Algorithmic Trading:* AI can make split-second trading decisions based on market data analysis, allowing firms to respond promptly to market changes and improve profit margins.\n",
      "\n",
      "4. **Agriculture:**\n",
      "   - *Precision Farming:* AI can assist in analyzing crop health through drone imagery and sensors to optimize watering, fertilization, and pesticide use, increasing yields while minimizing resources.\n",
      "   - *Supply Chain Optimization:* AI-driven predictive analytics can help farmers manage logistics, forecast demand, and reduce waste in the food supply chain.\n",
      "\n",
      "5. **Education:**\n",
      "   - *Personalized Learning:* AI can provide customized learning experiences by adapting curricula to individual student needs and learning styles, offering additional resources where necessary.\n",
      "   - *Administrative Tasks:* AI can automate administrative functions like grading and scheduling, allowing educators to focus more on teaching and student engagement.\n",
      "\n",
      "These examples illustrate not only the diversity of fields where AI can drive change but also the types of applications that can lead to significant advancements in efficiency, effectiveness, and quality of life in the coming years. Each language model may provide varied perspectives or emphasize different fields and applications based on their training and design, enriching the discussion about AI's potential future.\n"
     ]
    }
   ],
   "source": [
    "\n",
    "\n",
    "model_name =\"gpt-4o-mini\"\n",
    "\n",
    "response = openai.chat.completions.create(\n",
    "    model =model_name,\n",
    "    messages = messages\n",
    ")\n",
    "\n",
    "answer=response.choices[0].message.content\n",
    "\n",
    "print(answer)\n",
    "\n",
    "competitors.append(model_name)\n",
    "answers.append(answer)"
   ]
  },
  {
   "cell_type": "code",
   "execution_count": 28,
   "id": "e4b14f11",
   "metadata": {},
   "outputs": [
    {
     "name": "stdout",
     "output_type": "stream",
     "text": [
      "This is an excellent question! It's broad enough to allow for creative responses but focused enough to yield practical and actionable insights. It also allows the LLMs to demonstrate their understanding of current AI capabilities and future trends.\n",
      "\n",
      "Here's why this question is effective and what we might expect to see in the responses:\n",
      "\n",
      "*   **Open-ended exploration:** The question doesn't constrain the LLMs to a specific domain. They can leverage their entire knowledge base to identify opportunities.\n",
      "*   **Future-focused:** The \"next decade\" timeframe encourages predictions and consideration of emerging technologies.\n",
      "*   **Emphasis on impact:** The term \"meaningful impact\" prompts the LLMs to consider not just technical feasibility but also societal benefits.\n",
      "*   **Demands specific examples:** Asking for \"examples of potential applications\" forces the LLMs to move beyond general statements and provide concrete instances of how AI can be applied.\n",
      "\n",
      "**Potential Areas LLMs Might Highlight:**\n",
      "\n",
      "Based on current trends and AI's capabilities, here are some fields the LLMs might focus on:\n",
      "\n",
      "*   **Healthcare:**\n",
      "    *   **Drug Discovery:** Accelerating the identification of potential drug candidates through AI-powered analysis of biological data.\n",
      "    *   **Personalized Medicine:** Tailoring treatments to individual patients based on their genetic makeup and lifestyle.\n",
      "    *   **Diagnosis and Monitoring:** Improving the accuracy and speed of disease diagnosis through image analysis (e.g., radiology) and wearable sensor data.\n",
      "    *   **Robotic Surgery:** Enhancing surgical precision and minimally invasive procedures.\n",
      "    *   **Elderly Care:** AI companions to support elderly individuals in their daily lives, providing reminders, social interaction, and emergency assistance.\n",
      "\n",
      "*   **Education:**\n",
      "    *   **Personalized Learning:** Adapting educational content and pace to individual student needs.\n",
      "    *   **Automated Grading and Feedback:** Reducing the workload for educators and providing students with timely feedback.\n",
      "    *   **Intelligent Tutoring Systems:** Providing students with personalized instruction and support outside of the classroom.\n",
      "    *   **Accessibility:** Making education more accessible to students with disabilities through AI-powered tools like speech-to-text and language translation.\n",
      "\n",
      "*   **Environmental Sustainability:**\n",
      "    *   **Climate Modeling:** Improving the accuracy and reliability of climate change predictions.\n",
      "    *   **Resource Management:** Optimizing the use of natural resources like water and energy.\n",
      "    *   **Precision Agriculture:** Enhancing crop yields while minimizing environmental impact.\n",
      "    *   **Pollution Monitoring and Control:** Identifying and mitigating sources of pollution.\n",
      "    *   **Renewable Energy Optimization:** Predicting energy generation to optimize the distribution from renewable sources.\n",
      "\n",
      "*   **Transportation:**\n",
      "    *   **Autonomous Vehicles:** Improving safety and efficiency in transportation.\n",
      "    *   **Traffic Management:** Optimizing traffic flow to reduce congestion and emissions.\n",
      "    *   **Logistics and Supply Chain Optimization:** Streamlining supply chains and reducing transportation costs.\n",
      "\n",
      "*   **Manufacturing:**\n",
      "    *   **Predictive Maintenance:** Preventing equipment failures and reducing downtime.\n",
      "    *   **Quality Control:** Automating the detection of defects in manufactured products.\n",
      "    *   **Robotics and Automation:** Increasing efficiency and reducing labor costs.\n",
      "    *   **Design Optimization:** Using AI to optimize the design of products and processes.\n",
      "\n",
      "*   **Finance:**\n",
      "    *   **Fraud Detection:** Identifying and preventing fraudulent transactions.\n",
      "    *   **Risk Management:** Assessing and mitigating financial risks.\n",
      "    *   **Algorithmic Trading:** Automating trading decisions.\n",
      "    *   **Personalized Financial Advice:** Providing individuals with tailored financial advice.\n",
      "\n",
      "**How to Analyze the Responses:**\n",
      "\n",
      "After collecting responses from the five LLMs, an aspiring engineer can analyze them by:\n",
      "\n",
      "*   **Identifying common themes:** Which fields are consistently highlighted across different LLMs?\n",
      "*   **Comparing specific examples:** Are there any particularly innovative or impactful applications mentioned?\n",
      "*   **Evaluating the feasibility:** Are the proposed applications technically realistic within the next decade?\n",
      "*   **Considering ethical implications:** What are the potential ethical challenges associated with these AI applications?\n",
      "*   **Identifying areas of disagreement:** Do any LLMs offer conflicting perspectives on the potential of AI in certain fields?\n",
      "*   **Investigating further:** Use the LLM responses as a starting point for further research and exploration.\n",
      "\n",
      "By thoughtfully analyzing the responses from different LLMs, the aspiring engineer can gain valuable insights into the most promising areas for AI innovation and identify potential opportunities for future work. Good luck!\n",
      "\n"
     ]
    }
   ],
   "source": [
    "gemini = OpenAI(api_key=gemini_api_key, base_url=\"https://generativelanguage.googleapis.com/v1beta/openai/\")\n",
    "model_name = \"gemini-2.0-flash\"\n",
    "\n",
    "\n",
    "response = gemini.chat.completions.create(\n",
    "model= model_name,\n",
    "messages = messages\n",
    ")\n",
    "\n",
    "answer=response.choices[0].message.content\n",
    "\n",
    "print(answer)\n",
    "\n",
    "competitors.append(model_name)\n",
    "answers.append(answer)\n",
    "\n",
    "\n"
   ]
  },
  {
   "cell_type": "code",
   "execution_count": 30,
   "id": "d9dc0eac",
   "metadata": {},
   "outputs": [
    {
     "name": "stdout",
     "output_type": "stream",
     "text": [
      "[\"That’s a great question for generating insights on the potential impact of AI across different fields. Here are some areas where AI may have a significant impact over the next decade, along with examples of potential applications:\\n\\n1. **Healthcare:**\\n   - *Personalized Medicine:* AI can analyze patient data to recommend tailored treatment plans based on individual genetic profiles and health histories.\\n   - *Diagnostics:* Machine learning algorithms can assist in analyzing medical images (e.g., X-rays, MRIs) to detect diseases like cancer at earlier stages than human practitioners might.\\n\\n2. **Transportation:**\\n   - *Autonomous Vehicles:* AI systems can enable self-driving cars to navigate safely by processing data from sensors and learning from vast amounts of driving data to improve decision-making.\\n   - *Traffic Management:* AI can optimize traffic flow in urban areas by analyzing data from traffic cameras and sensors to adjust signals in real-time, reducing congestion and emissions.\\n\\n3. **Finance:**\\n   - *Fraud Detection:* AI algorithms can monitor transactions in real-time to identify unusual patterns that may indicate fraudulent activity, providing immediate alerts to financial institutions.\\n   - *Algorithmic Trading:* AI can make split-second trading decisions based on market data analysis, allowing firms to respond promptly to market changes and improve profit margins.\\n\\n4. **Agriculture:**\\n   - *Precision Farming:* AI can assist in analyzing crop health through drone imagery and sensors to optimize watering, fertilization, and pesticide use, increasing yields while minimizing resources.\\n   - *Supply Chain Optimization:* AI-driven predictive analytics can help farmers manage logistics, forecast demand, and reduce waste in the food supply chain.\\n\\n5. **Education:**\\n   - *Personalized Learning:* AI can provide customized learning experiences by adapting curricula to individual student needs and learning styles, offering additional resources where necessary.\\n   - *Administrative Tasks:* AI can automate administrative functions like grading and scheduling, allowing educators to focus more on teaching and student engagement.\\n\\nThese examples illustrate not only the diversity of fields where AI can drive change but also the types of applications that can lead to significant advancements in efficiency, effectiveness, and quality of life in the coming years. Each language model may provide varied perspectives or emphasize different fields and applications based on their training and design, enriching the discussion about AI's potential future.\", 'This is an excellent question! It\\'s broad enough to allow for creative responses but focused enough to yield practical and actionable insights. It also allows the LLMs to demonstrate their understanding of current AI capabilities and future trends.\\n\\nHere\\'s why this question is effective and what we might expect to see in the responses:\\n\\n*   **Open-ended exploration:** The question doesn\\'t constrain the LLMs to a specific domain. They can leverage their entire knowledge base to identify opportunities.\\n*   **Future-focused:** The \"next decade\" timeframe encourages predictions and consideration of emerging technologies.\\n*   **Emphasis on impact:** The term \"meaningful impact\" prompts the LLMs to consider not just technical feasibility but also societal benefits.\\n*   **Demands specific examples:** Asking for \"examples of potential applications\" forces the LLMs to move beyond general statements and provide concrete instances of how AI can be applied.\\n\\n**Potential Areas LLMs Might Highlight:**\\n\\nBased on current trends and AI\\'s capabilities, here are some fields the LLMs might focus on:\\n\\n*   **Healthcare:**\\n    *   **Drug Discovery:** Accelerating the identification of potential drug candidates through AI-powered analysis of biological data.\\n    *   **Personalized Medicine:** Tailoring treatments to individual patients based on their genetic makeup and lifestyle.\\n    *   **Diagnosis and Monitoring:** Improving the accuracy and speed of disease diagnosis through image analysis (e.g., radiology) and wearable sensor data.\\n    *   **Robotic Surgery:** Enhancing surgical precision and minimally invasive procedures.\\n    *   **Elderly Care:** AI companions to support elderly individuals in their daily lives, providing reminders, social interaction, and emergency assistance.\\n\\n*   **Education:**\\n    *   **Personalized Learning:** Adapting educational content and pace to individual student needs.\\n    *   **Automated Grading and Feedback:** Reducing the workload for educators and providing students with timely feedback.\\n    *   **Intelligent Tutoring Systems:** Providing students with personalized instruction and support outside of the classroom.\\n    *   **Accessibility:** Making education more accessible to students with disabilities through AI-powered tools like speech-to-text and language translation.\\n\\n*   **Environmental Sustainability:**\\n    *   **Climate Modeling:** Improving the accuracy and reliability of climate change predictions.\\n    *   **Resource Management:** Optimizing the use of natural resources like water and energy.\\n    *   **Precision Agriculture:** Enhancing crop yields while minimizing environmental impact.\\n    *   **Pollution Monitoring and Control:** Identifying and mitigating sources of pollution.\\n    *   **Renewable Energy Optimization:** Predicting energy generation to optimize the distribution from renewable sources.\\n\\n*   **Transportation:**\\n    *   **Autonomous Vehicles:** Improving safety and efficiency in transportation.\\n    *   **Traffic Management:** Optimizing traffic flow to reduce congestion and emissions.\\n    *   **Logistics and Supply Chain Optimization:** Streamlining supply chains and reducing transportation costs.\\n\\n*   **Manufacturing:**\\n    *   **Predictive Maintenance:** Preventing equipment failures and reducing downtime.\\n    *   **Quality Control:** Automating the detection of defects in manufactured products.\\n    *   **Robotics and Automation:** Increasing efficiency and reducing labor costs.\\n    *   **Design Optimization:** Using AI to optimize the design of products and processes.\\n\\n*   **Finance:**\\n    *   **Fraud Detection:** Identifying and preventing fraudulent transactions.\\n    *   **Risk Management:** Assessing and mitigating financial risks.\\n    *   **Algorithmic Trading:** Automating trading decisions.\\n    *   **Personalized Financial Advice:** Providing individuals with tailored financial advice.\\n\\n**How to Analyze the Responses:**\\n\\nAfter collecting responses from the five LLMs, an aspiring engineer can analyze them by:\\n\\n*   **Identifying common themes:** Which fields are consistently highlighted across different LLMs?\\n*   **Comparing specific examples:** Are there any particularly innovative or impactful applications mentioned?\\n*   **Evaluating the feasibility:** Are the proposed applications technically realistic within the next decade?\\n*   **Considering ethical implications:** What are the potential ethical challenges associated with these AI applications?\\n*   **Identifying areas of disagreement:** Do any LLMs offer conflicting perspectives on the potential of AI in certain fields?\\n*   **Investigating further:** Use the LLM responses as a starting point for further research and exploration.\\n\\nBy thoughtfully analyzing the responses from different LLMs, the aspiring engineer can gain valuable insights into the most promising areas for AI innovation and identify potential opportunities for future work. Good luck!\\n', 'Artificial intelligence (AI) has the potential to make a significant impact in various fields over the next decade. Here are some specific areas where AI can bring about meaningful changes, along with examples of potential applications:\\n\\n1. **Healthcare**: AI can revolutionize healthcare by improving diagnosis accuracy, streamlining clinical workflows, and enhancing patient care. Examples of potential applications include:\\n\\t* AI-assisted diagnosis: AI algorithms can analyze medical images, patient data, and symptoms to help doctors diagnose diseases more accurately and quickly.\\n\\t* Personalized medicine: AI can help tailor treatment plans to individual patients based on their genetic profiles, medical histories, and lifestyle factors.\\n\\t* Virtual nursing assistants: AI-powered chatbots can assist patients with routine tasks, such as scheduling appointments, tracking medication, and providing basic health advice.\\n2. **Education**: AI can transform the education sector by making learning more accessible, personalized, and effective. Examples of potential applications include:\\n\\t* Adaptive learning systems: AI can adjust the difficulty level of course materials, provide real-time feedback, and offer customized learning paths to students.\\n\\t* Intelligent tutoring systems: AI-powered virtual tutors can provide one-on-one guidance, answer questions, and help students with homework and assignments.\\n\\t* Automated grading: AI can help teachers automate the grading process, freeing up time for more critical tasks, such as providing feedback and mentoring.\\n3. **Environmental Sustainability**: AI can contribute to environmental sustainability by optimizing resource usage, reducing waste, and promoting eco-friendly practices. Examples of potential applications include:\\n\\t* Climate modeling: AI can help scientists predict climate patterns, identify areas of high risk, and develop strategies for mitigating the effects of climate change.\\n\\t* Sustainable resource management: AI can optimize energy consumption, water usage, and waste management in industries such as manufacturing, agriculture, and transportation.\\n\\t* Eco-friendly infrastructure: AI can help design and optimize green buildings, smart cities, and renewable energy systems, reducing the environmental footprint of human activities.\\n4. **Transportation and Logistics**: AI can improve the efficiency, safety, and reliability of transportation systems, as well as optimize logistics and supply chain management. Examples of potential applications include:\\n\\t* Autonomous vehicles: AI can enable self-driving cars, trucks, and drones, reducing accidents, improving traffic flow, and increasing delivery efficiency.\\n\\t* Route optimization: AI can help fleet managers and logistics companies optimize routes, reducing fuel consumption, lowering emissions, and improving delivery times.\\n\\t* Predictive maintenance: AI can predict when vehicles or equipment are likely to fail, allowing for proactive maintenance and minimizing downtime.\\n5. **Cybersecurity**: AI can enhance cybersecurity by detecting and responding to threats in real-time, protecting sensitive data, and preventing cyberattacks. Examples of potential applications include:\\n\\t* Threat detection: AI-powered systems can identify and flag potential threats, such as malware, phishing attacks, and denial-of-service (DoS) attacks.\\n\\t* Incident response: AI can help security teams respond to incidents more quickly and effectively, minimizing damage and reducing downtime.\\n\\t* Security information and event management (SIEM): AI can analyze logs and other security-related data to identify patterns and anomalies, helping security teams stay ahead of emerging threats.\\n6. **Agriculture**: AI can improve crop yields, reduce waste, and promote sustainable farming practices. Examples of potential applications include:\\n\\t* Precision farming: AI can help farmers optimize crop planting, irrigation, and fertilization, reducing waste and improving yields.\\n\\t* Crop monitoring: AI-powered drones and satellites can monitor crop health, detect diseases, and predict yields, allowing farmers to take proactive measures.\\n\\t* Livestock management: AI can help farmers monitor animal health, detect diseases, and optimize feeding and breeding practices, improving the overall efficiency and sustainability of livestock production.\\n7. **Energy and Utilities**: AI can optimize energy production, distribution, and consumption, reducing waste and promoting sustainable energy practices. Examples of potential applications include:\\n\\t* Predictive energy forecasting: AI can help utilities and energy companies predict energy demand, optimizing production and reducing waste.\\n\\t* Smart grid management: AI can help utilities manage energy distribution, detecting and responding to power outages, and optimizing energy transmission.\\n\\t* Energy efficiency: AI can help buildings and industries optimize energy consumption, reducing waste and promoting sustainable energy practices.\\n\\nThese are just a few examples of the many fields where AI can make a significant impact in the next decade. As AI technology continues to evolve, we can expect to see even more innovative applications and use cases emerge, transforming industries and improving lives.']\n"
     ]
    }
   ],
   "source": [
    "groq = OpenAI(api_key=groq_api_key, base_url=\"https://api.groq.com/openai/v1\")\n",
    "model_name = \"llama-3.3-70b-versatile\"\n",
    "\n",
    "response = groq.chat.completions.create(model=model_name, messages=messages)\n",
    "answer = response.choices[0].message.content\n",
    "\n",
    "print(answers)\n",
    "\n",
    "competitors.append(model_name)\n",
    "answers.append(answer)"
   ]
  },
  {
   "cell_type": "code",
   "execution_count": 31,
   "id": "9ee04562",
   "metadata": {},
   "outputs": [
    {
     "name": "stdout",
     "output_type": "stream",
     "text": [
      "['gpt-4o-mini', 'gemini-2.0-flash', 'llama-3.3-70b-versatile', 'llama-3.3-70b-versatile']\n",
      "[\"That’s a great question for generating insights on the potential impact of AI across different fields. Here are some areas where AI may have a significant impact over the next decade, along with examples of potential applications:\\n\\n1. **Healthcare:**\\n   - *Personalized Medicine:* AI can analyze patient data to recommend tailored treatment plans based on individual genetic profiles and health histories.\\n   - *Diagnostics:* Machine learning algorithms can assist in analyzing medical images (e.g., X-rays, MRIs) to detect diseases like cancer at earlier stages than human practitioners might.\\n\\n2. **Transportation:**\\n   - *Autonomous Vehicles:* AI systems can enable self-driving cars to navigate safely by processing data from sensors and learning from vast amounts of driving data to improve decision-making.\\n   - *Traffic Management:* AI can optimize traffic flow in urban areas by analyzing data from traffic cameras and sensors to adjust signals in real-time, reducing congestion and emissions.\\n\\n3. **Finance:**\\n   - *Fraud Detection:* AI algorithms can monitor transactions in real-time to identify unusual patterns that may indicate fraudulent activity, providing immediate alerts to financial institutions.\\n   - *Algorithmic Trading:* AI can make split-second trading decisions based on market data analysis, allowing firms to respond promptly to market changes and improve profit margins.\\n\\n4. **Agriculture:**\\n   - *Precision Farming:* AI can assist in analyzing crop health through drone imagery and sensors to optimize watering, fertilization, and pesticide use, increasing yields while minimizing resources.\\n   - *Supply Chain Optimization:* AI-driven predictive analytics can help farmers manage logistics, forecast demand, and reduce waste in the food supply chain.\\n\\n5. **Education:**\\n   - *Personalized Learning:* AI can provide customized learning experiences by adapting curricula to individual student needs and learning styles, offering additional resources where necessary.\\n   - *Administrative Tasks:* AI can automate administrative functions like grading and scheduling, allowing educators to focus more on teaching and student engagement.\\n\\nThese examples illustrate not only the diversity of fields where AI can drive change but also the types of applications that can lead to significant advancements in efficiency, effectiveness, and quality of life in the coming years. Each language model may provide varied perspectives or emphasize different fields and applications based on their training and design, enriching the discussion about AI's potential future.\", 'This is an excellent question! It\\'s broad enough to allow for creative responses but focused enough to yield practical and actionable insights. It also allows the LLMs to demonstrate their understanding of current AI capabilities and future trends.\\n\\nHere\\'s why this question is effective and what we might expect to see in the responses:\\n\\n*   **Open-ended exploration:** The question doesn\\'t constrain the LLMs to a specific domain. They can leverage their entire knowledge base to identify opportunities.\\n*   **Future-focused:** The \"next decade\" timeframe encourages predictions and consideration of emerging technologies.\\n*   **Emphasis on impact:** The term \"meaningful impact\" prompts the LLMs to consider not just technical feasibility but also societal benefits.\\n*   **Demands specific examples:** Asking for \"examples of potential applications\" forces the LLMs to move beyond general statements and provide concrete instances of how AI can be applied.\\n\\n**Potential Areas LLMs Might Highlight:**\\n\\nBased on current trends and AI\\'s capabilities, here are some fields the LLMs might focus on:\\n\\n*   **Healthcare:**\\n    *   **Drug Discovery:** Accelerating the identification of potential drug candidates through AI-powered analysis of biological data.\\n    *   **Personalized Medicine:** Tailoring treatments to individual patients based on their genetic makeup and lifestyle.\\n    *   **Diagnosis and Monitoring:** Improving the accuracy and speed of disease diagnosis through image analysis (e.g., radiology) and wearable sensor data.\\n    *   **Robotic Surgery:** Enhancing surgical precision and minimally invasive procedures.\\n    *   **Elderly Care:** AI companions to support elderly individuals in their daily lives, providing reminders, social interaction, and emergency assistance.\\n\\n*   **Education:**\\n    *   **Personalized Learning:** Adapting educational content and pace to individual student needs.\\n    *   **Automated Grading and Feedback:** Reducing the workload for educators and providing students with timely feedback.\\n    *   **Intelligent Tutoring Systems:** Providing students with personalized instruction and support outside of the classroom.\\n    *   **Accessibility:** Making education more accessible to students with disabilities through AI-powered tools like speech-to-text and language translation.\\n\\n*   **Environmental Sustainability:**\\n    *   **Climate Modeling:** Improving the accuracy and reliability of climate change predictions.\\n    *   **Resource Management:** Optimizing the use of natural resources like water and energy.\\n    *   **Precision Agriculture:** Enhancing crop yields while minimizing environmental impact.\\n    *   **Pollution Monitoring and Control:** Identifying and mitigating sources of pollution.\\n    *   **Renewable Energy Optimization:** Predicting energy generation to optimize the distribution from renewable sources.\\n\\n*   **Transportation:**\\n    *   **Autonomous Vehicles:** Improving safety and efficiency in transportation.\\n    *   **Traffic Management:** Optimizing traffic flow to reduce congestion and emissions.\\n    *   **Logistics and Supply Chain Optimization:** Streamlining supply chains and reducing transportation costs.\\n\\n*   **Manufacturing:**\\n    *   **Predictive Maintenance:** Preventing equipment failures and reducing downtime.\\n    *   **Quality Control:** Automating the detection of defects in manufactured products.\\n    *   **Robotics and Automation:** Increasing efficiency and reducing labor costs.\\n    *   **Design Optimization:** Using AI to optimize the design of products and processes.\\n\\n*   **Finance:**\\n    *   **Fraud Detection:** Identifying and preventing fraudulent transactions.\\n    *   **Risk Management:** Assessing and mitigating financial risks.\\n    *   **Algorithmic Trading:** Automating trading decisions.\\n    *   **Personalized Financial Advice:** Providing individuals with tailored financial advice.\\n\\n**How to Analyze the Responses:**\\n\\nAfter collecting responses from the five LLMs, an aspiring engineer can analyze them by:\\n\\n*   **Identifying common themes:** Which fields are consistently highlighted across different LLMs?\\n*   **Comparing specific examples:** Are there any particularly innovative or impactful applications mentioned?\\n*   **Evaluating the feasibility:** Are the proposed applications technically realistic within the next decade?\\n*   **Considering ethical implications:** What are the potential ethical challenges associated with these AI applications?\\n*   **Identifying areas of disagreement:** Do any LLMs offer conflicting perspectives on the potential of AI in certain fields?\\n*   **Investigating further:** Use the LLM responses as a starting point for further research and exploration.\\n\\nBy thoughtfully analyzing the responses from different LLMs, the aspiring engineer can gain valuable insights into the most promising areas for AI innovation and identify potential opportunities for future work. Good luck!\\n', 'Artificial intelligence (AI) has the potential to make a significant impact in various fields over the next decade. Here are some specific areas where AI can bring about meaningful changes, along with examples of potential applications:\\n\\n1. **Healthcare**: AI can revolutionize healthcare by improving diagnosis accuracy, streamlining clinical workflows, and enhancing patient care. Examples of potential applications include:\\n\\t* AI-assisted diagnosis: AI algorithms can analyze medical images, patient data, and symptoms to help doctors diagnose diseases more accurately and quickly.\\n\\t* Personalized medicine: AI can help tailor treatment plans to individual patients based on their genetic profiles, medical histories, and lifestyle factors.\\n\\t* Virtual nursing assistants: AI-powered chatbots can assist patients with routine tasks, such as scheduling appointments, tracking medication, and providing basic health advice.\\n2. **Education**: AI can transform the education sector by making learning more accessible, personalized, and effective. Examples of potential applications include:\\n\\t* Adaptive learning systems: AI can adjust the difficulty level of course materials, provide real-time feedback, and offer customized learning paths to students.\\n\\t* Intelligent tutoring systems: AI-powered virtual tutors can provide one-on-one guidance, answer questions, and help students with homework and assignments.\\n\\t* Automated grading: AI can help teachers automate the grading process, freeing up time for more critical tasks, such as providing feedback and mentoring.\\n3. **Environmental Sustainability**: AI can contribute to environmental sustainability by optimizing resource usage, reducing waste, and promoting eco-friendly practices. Examples of potential applications include:\\n\\t* Climate modeling: AI can help scientists predict climate patterns, identify areas of high risk, and develop strategies for mitigating the effects of climate change.\\n\\t* Sustainable resource management: AI can optimize energy consumption, water usage, and waste management in industries such as manufacturing, agriculture, and transportation.\\n\\t* Eco-friendly infrastructure: AI can help design and optimize green buildings, smart cities, and renewable energy systems, reducing the environmental footprint of human activities.\\n4. **Transportation and Logistics**: AI can improve the efficiency, safety, and reliability of transportation systems, as well as optimize logistics and supply chain management. Examples of potential applications include:\\n\\t* Autonomous vehicles: AI can enable self-driving cars, trucks, and drones, reducing accidents, improving traffic flow, and increasing delivery efficiency.\\n\\t* Route optimization: AI can help fleet managers and logistics companies optimize routes, reducing fuel consumption, lowering emissions, and improving delivery times.\\n\\t* Predictive maintenance: AI can predict when vehicles or equipment are likely to fail, allowing for proactive maintenance and minimizing downtime.\\n5. **Cybersecurity**: AI can enhance cybersecurity by detecting and responding to threats in real-time, protecting sensitive data, and preventing cyberattacks. Examples of potential applications include:\\n\\t* Threat detection: AI-powered systems can identify and flag potential threats, such as malware, phishing attacks, and denial-of-service (DoS) attacks.\\n\\t* Incident response: AI can help security teams respond to incidents more quickly and effectively, minimizing damage and reducing downtime.\\n\\t* Security information and event management (SIEM): AI can analyze logs and other security-related data to identify patterns and anomalies, helping security teams stay ahead of emerging threats.\\n6. **Agriculture**: AI can improve crop yields, reduce waste, and promote sustainable farming practices. Examples of potential applications include:\\n\\t* Precision farming: AI can help farmers optimize crop planting, irrigation, and fertilization, reducing waste and improving yields.\\n\\t* Crop monitoring: AI-powered drones and satellites can monitor crop health, detect diseases, and predict yields, allowing farmers to take proactive measures.\\n\\t* Livestock management: AI can help farmers monitor animal health, detect diseases, and optimize feeding and breeding practices, improving the overall efficiency and sustainability of livestock production.\\n7. **Energy and Utilities**: AI can optimize energy production, distribution, and consumption, reducing waste and promoting sustainable energy practices. Examples of potential applications include:\\n\\t* Predictive energy forecasting: AI can help utilities and energy companies predict energy demand, optimizing production and reducing waste.\\n\\t* Smart grid management: AI can help utilities manage energy distribution, detecting and responding to power outages, and optimizing energy transmission.\\n\\t* Energy efficiency: AI can help buildings and industries optimize energy consumption, reducing waste and promoting sustainable energy practices.\\n\\nThese are just a few examples of the many fields where AI can make a significant impact in the next decade. As AI technology continues to evolve, we can expect to see even more innovative applications and use cases emerge, transforming industries and improving lives.', \"I'd be happy to provide a comprehensive response to this question, exploring various fields where artificial intelligence (AI) can make a significant impact in the next decade. Here are some areas with potential applications:\\n\\n1. **Healthcare**: AI can revolutionize healthcare by improving disease diagnosis, personalizing treatment plans, and streamlining clinical workflows. Examples of potential applications include:\\n\\t* AI-assisted diagnosis: using machine learning algorithms to analyze medical images and identify patterns that may indicate diseases.\\n\\t* Predictive analytics: using AI to forecast patient outcomes, identify high-risk patients, and optimize resource allocation.\\n\\t* Personalized medicine: using AI to tailor treatment plans to individual patients based on their genetic profiles, medical histories, and lifestyle factors.\\n2. **Education**: AI can enhance the learning experience by providing personalized instruction, automating grading, and improving student outcomes. Examples of potential applications include:\\n\\t* Adaptive learning systems: using AI to adjust the difficulty level of course materials based on individual students' performance and learning styles.\\n\\t* Intelligent tutoring systems: using AI to provide one-on-one support to students, offering real-time feedback and guidance.\\n\\t* Natural language processing: using AI to analyze and improve student writing, speaking, and communication skills.\\n3. **Environmental Sustainability**: AI can help mitigate climate change by optimizing resource usage, reducing waste, and promoting sustainable practices. Examples of potential applications include:\\n\\t* Climate modeling: using AI to simulate and predict climate patterns, allowing for more accurate forecasting and decision-making.\\n\\t* Energy management: using AI to optimize energy consumption, predict energy demand, and identify areas for improvement.\\n\\t* Sustainable agriculture: using AI to analyze soil health, optimize crop yields, and reduce the environmental impact of farming practices.\\n4. **Transportation and Logistics**: AI can improve the efficiency and safety of transportation systems by optimizing routes, predicting traffic patterns, and automating vehicles. Examples of potential applications include:\\n\\t* Autonomous vehicles: using AI to develop self-driving cars, trucks, and drones that can navigate complex environments and avoid accidents.\\n\\t* Route optimization: using AI to analyze traffic patterns and optimize routes for delivery trucks, taxis, and ride-sharing services.\\n\\t* Predictive maintenance: using AI to predict and prevent mechanical failures in vehicles, reducing downtime and improving overall efficiency.\\n5. **Cybersecurity**: AI can enhance cybersecurity by detecting and responding to threats in real-time, protecting sensitive data, and preventing cyber attacks. Examples of potential applications include:\\n\\t* Threat detection: using AI to identify and flag potential security threats, such as malware, phishing attacks, and unauthorized access attempts.\\n\\t* Incident response: using AI to automate the response to security incidents, minimizing damage and reducing downtime.\\n\\t* Security analytics: using AI to analyze network traffic, identify vulnerabilities, and predict potential security risks.\\n6. **Manufacturing and Industrial Automation**: AI can improve manufacturing efficiency, reduce costs, and enhance product quality by optimizing production processes, predicting maintenance needs, and automating tasks. Examples of potential applications include:\\n\\t* Predictive maintenance: using AI to predict and prevent equipment failures, reducing downtime and improving overall efficiency.\\n\\t* Quality control: using AI to inspect products, detect defects, and improve overall quality.\\n\\t* Supply chain optimization: using AI to analyze and optimize supply chain operations, reducing costs and improving delivery times.\\n7. **Financial Services**: AI can transform the financial sector by improving risk management, enhancing customer experience, and optimizing investment strategies. Examples of potential applications include:\\n\\t* Risk management: using AI to analyze and predict market trends, identify potential risks, and optimize investment portfolios.\\n\\t* Customer service: using AI to provide personalized support, answer customer queries, and improve overall customer experience.\\n\\t* Fraud detection: using AI to identify and prevent fraudulent transactions, protecting customers and reducing financial losses.\\n\\nThese are just a few examples of the many fields where AI can make a significant impact in the next decade. As AI technology continues to evolve, we can expect to see even more innovative applications and use cases emerge.\"]\n"
     ]
    }
   ],
   "source": [
    "print(competitors)\n",
    "print(answers)"
   ]
  },
  {
   "cell_type": "code",
   "execution_count": 35,
   "id": "6d9ef8d3",
   "metadata": {},
   "outputs": [
    {
     "name": "stdout",
     "output_type": "stream",
     "text": [
      "competitors: e \n",
      " I'd be happy to provide a comprehensive response to this question, exploring various fields where artificial intelligence (AI) can make a significant impact in the next decade. Here are some areas with potential applications:\n",
      "\n",
      "1. **Healthcare**: AI can revolutionize healthcare by improving disease diagnosis, personalizing treatment plans, and streamlining clinical workflows. Examples of potential applications include:\n",
      "\t* AI-assisted diagnosis: using machine learning algorithms to analyze medical images and identify patterns that may indicate diseases.\n",
      "\t* Predictive analytics: using AI to forecast patient outcomes, identify high-risk patients, and optimize resource allocation.\n",
      "\t* Personalized medicine: using AI to tailor treatment plans to individual patients based on their genetic profiles, medical histories, and lifestyle factors.\n",
      "2. **Education**: AI can enhance the learning experience by providing personalized instruction, automating grading, and improving student outcomes. Examples of potential applications include:\n",
      "\t* Adaptive learning systems: using AI to adjust the difficulty level of course materials based on individual students' performance and learning styles.\n",
      "\t* Intelligent tutoring systems: using AI to provide one-on-one support to students, offering real-time feedback and guidance.\n",
      "\t* Natural language processing: using AI to analyze and improve student writing, speaking, and communication skills.\n",
      "3. **Environmental Sustainability**: AI can help mitigate climate change by optimizing resource usage, reducing waste, and promoting sustainable practices. Examples of potential applications include:\n",
      "\t* Climate modeling: using AI to simulate and predict climate patterns, allowing for more accurate forecasting and decision-making.\n",
      "\t* Energy management: using AI to optimize energy consumption, predict energy demand, and identify areas for improvement.\n",
      "\t* Sustainable agriculture: using AI to analyze soil health, optimize crop yields, and reduce the environmental impact of farming practices.\n",
      "4. **Transportation and Logistics**: AI can improve the efficiency and safety of transportation systems by optimizing routes, predicting traffic patterns, and automating vehicles. Examples of potential applications include:\n",
      "\t* Autonomous vehicles: using AI to develop self-driving cars, trucks, and drones that can navigate complex environments and avoid accidents.\n",
      "\t* Route optimization: using AI to analyze traffic patterns and optimize routes for delivery trucks, taxis, and ride-sharing services.\n",
      "\t* Predictive maintenance: using AI to predict and prevent mechanical failures in vehicles, reducing downtime and improving overall efficiency.\n",
      "5. **Cybersecurity**: AI can enhance cybersecurity by detecting and responding to threats in real-time, protecting sensitive data, and preventing cyber attacks. Examples of potential applications include:\n",
      "\t* Threat detection: using AI to identify and flag potential security threats, such as malware, phishing attacks, and unauthorized access attempts.\n",
      "\t* Incident response: using AI to automate the response to security incidents, minimizing damage and reducing downtime.\n",
      "\t* Security analytics: using AI to analyze network traffic, identify vulnerabilities, and predict potential security risks.\n",
      "6. **Manufacturing and Industrial Automation**: AI can improve manufacturing efficiency, reduce costs, and enhance product quality by optimizing production processes, predicting maintenance needs, and automating tasks. Examples of potential applications include:\n",
      "\t* Predictive maintenance: using AI to predict and prevent equipment failures, reducing downtime and improving overall efficiency.\n",
      "\t* Quality control: using AI to inspect products, detect defects, and improve overall quality.\n",
      "\t* Supply chain optimization: using AI to analyze and optimize supply chain operations, reducing costs and improving delivery times.\n",
      "7. **Financial Services**: AI can transform the financial sector by improving risk management, enhancing customer experience, and optimizing investment strategies. Examples of potential applications include:\n",
      "\t* Risk management: using AI to analyze and predict market trends, identify potential risks, and optimize investment portfolios.\n",
      "\t* Customer service: using AI to provide personalized support, answer customer queries, and improve overall customer experience.\n",
      "\t* Fraud detection: using AI to identify and prevent fraudulent transactions, protecting customers and reducing financial losses.\n",
      "\n",
      "These are just a few examples of the many fields where AI can make a significant impact in the next decade. As AI technology continues to evolve, we can expect to see even more innovative applications and use cases emerge.\n"
     ]
    }
   ],
   "source": [
    "for competitor, answers in zip(competitors, answers):\n",
    "    print(f\"competitors: {competitor} \\n {answer}\")\n"
   ]
  },
  {
   "cell_type": "code",
   "execution_count": null,
   "id": "885190ae",
   "metadata": {},
   "outputs": [],
   "source": [
    "together = \"\"\n",
    "\n",
    "for index, answer in enumerate:\n",
    "    "
   ]
  }
 ],
 "metadata": {
  "kernelspec": {
   "display_name": ".venv",
   "language": "python",
   "name": "python3"
  },
  "language_info": {
   "codemirror_mode": {
    "name": "ipython",
    "version": 3
   },
   "file_extension": ".py",
   "mimetype": "text/x-python",
   "name": "python",
   "nbconvert_exporter": "python",
   "pygments_lexer": "ipython3",
   "version": "3.12.5"
  }
 },
 "nbformat": 4,
 "nbformat_minor": 5
}
