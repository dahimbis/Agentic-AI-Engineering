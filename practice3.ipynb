{
 "cells": [
  {
   "cell_type": "code",
   "execution_count": 18,
   "id": "b86d6fb5",
   "metadata": {},
   "outputs": [],
   "source": [
    "import sendgrid\n",
    "from dotenv import load_dotenv\n",
    "from agents import Agent, trace, Runner\n",
    "from openai import OpenAI\n",
    "import os\n",
    "from sendgrid.helpers.mail import Email, To, Content\n",
    "\n"
   ]
  },
  {
   "cell_type": "code",
   "execution_count": 8,
   "id": "dc1fdf6f",
   "metadata": {},
   "outputs": [],
   "source": [
    "load_dotenv(override=True)\n",
    "\n",
    "sendgrid_api_key = os.environ.get(\"SENDGRID_API_KEY\")\n",
    "\n",
    "\n",
    "instruction1 =f\"You are acting as Movie Action Write- Write a short movie maximum 15 words\"\n",
    "instruction2 =f\"you are acting as love action Write-Write a short movie maximum 15 words\"\n",
    "instruction3= f\"you are actinbg as horror movie writer-Write a short movie maximum 15 words\"\n",
    "\n",
    "\n",
    "agent1 = Agent(\n",
    "    name=\"Action\",\n",
    "    instructions=instruction1,\n",
    "    model =\"gpt-4o-mini\"\n",
    ")\n",
    "\n",
    "agent2 =Agent(\n",
    "    name=\"love\",\n",
    "    instructions=instruction2,\n",
    "    model=\"gpt-4o-mini\"\n",
    ")\n",
    "\n",
    "agent3= Agent(\n",
    "    name=\"Horror\",\n",
    "    instructions=instruction3\n",
    ")\n",
    "\n"
   ]
  },
  {
   "cell_type": "code",
   "execution_count": 9,
   "id": "a9df9dad",
   "metadata": {},
   "outputs": [],
   "source": [
    "import asyncio\n",
    "\n",
    "\n",
    "message =\"Write Movies\"\n",
    "with trace(\"Movie Write\"):\n",
    "    results = await asyncio.gather(\n",
    "        Runner.run(agent1, message),\n",
    "        Runner.run(agent2, message),\n",
    "        Runner.run(agent3, message)\n",
    "    )\n",
    "\n",
    "\n",
    "outputs = [result.final_output for result in results]"
   ]
  },
  {
   "cell_type": "code",
   "execution_count": 10,
   "id": "b5e47b82",
   "metadata": {},
   "outputs": [
    {
     "name": "stdout",
     "output_type": "stream",
     "text": [
      "A betrayed hero seeks revenge, uncovering dark secrets that could destroy his world.\n",
      "\n",
      "\n",
      "Two strangers meet at a café, sharing secrets and laughter, sparking an unexpected romance.\n",
      "\n",
      "\n",
      "\"Whispers in the Walls: Shadows creep, voices call; reality blurs—who will survive?\"\n",
      "\n",
      "\n"
     ]
    }
   ],
   "source": [
    "for output in outputs:\n",
    "    print(output +\"\\n\\n\")"
   ]
  },
  {
   "cell_type": "code",
   "execution_count": 12,
   "id": "b07a5d25",
   "metadata": {},
   "outputs": [],
   "source": [
    "movie_manager_instr = f\" You are looking for best movie to write about - Following the movies given by other agents\"\n",
    "\n",
    "\n",
    "movie_agent = Agent(\n",
    "    name=\"Movie Manager\",\n",
    "    instructions=movie_manager_instr,\n",
    "    model=\"gpt-4o-mini\"\n",
    ")"
   ]
  },
  {
   "cell_type": "code",
   "execution_count": 16,
   "id": "548f2376",
   "metadata": {},
   "outputs": [
    {
     "name": "stdout",
     "output_type": "stream",
     "text": [
      "RunResult:\n",
      "- Last agent: Agent(name=\"Movie Manager\", ...)\n",
      "- Final output (str):\n",
      "    Great stories you've provided! Here’s a fresh idea to consider:\n",
      "    \n",
      "    **Title: \"Echoes of Tomorrow\"**\n",
      "    \n",
      "    Plot: In a futuristic world where memories can be extracted and sold, a struggling memory dealer accidentally stumbles upon a series of suppressed memories that reveal a conspiracy to control the population's thoughts. As he delves deeper, he encounters a woman whose past is intertwined with the secrets he uncovers. Together, they race against time to expose the truth before their own memories are erased, all while battling their haunting pasts that threaten their resolve.\n",
      "    \n",
      "    Themes: The nature of memory, identity, and the ethical implications of technology. \n",
      "    \n",
      "    Would this concept resonate with what you're looking for?\n",
      "- 1 new item(s)\n",
      "- 1 raw response(s)\n",
      "- 0 input guardrail result(s)\n",
      "- 0 output guardrail result(s)\n",
      "(See `RunResult` for more details)\n"
     ]
    }
   ],
   "source": [
    "message=\"Select the best Movie story\"\n",
    "\n",
    "with trace('SELECT MOVIE'):\n",
    "    results = await asyncio.gather(\n",
    "        Runner.run(agent1, message),\n",
    "        Runner.run(agent2, message),\n",
    "        Runner.run(agent3, message)\n",
    "    )\n",
    "\n",
    "outputs = [result.final_output for result in results]\n",
    "\n",
    "movies = \"Movie Writer\" + \"Movies\".join(outputs)\n",
    "\n",
    "best = await Runner.run(movie_agent, movies)\n",
    "\n",
    "print(best)"
   ]
  },
  {
   "cell_type": "code",
   "execution_count": 14,
   "id": "eb7a912e",
   "metadata": {},
   "outputs": [],
   "source": [
    "output = [results.final_output]"
   ]
  },
  {
   "cell_type": "code",
   "execution_count": null,
   "id": "e2ab1897",
   "metadata": {},
   "outputs": [
    {
     "name": "stdout",
     "output_type": "stream",
     "text": [
      "202\n"
     ]
    }
   ],
   "source": [
    "\n",
    "from sendgrid.helpers.mail import Mail\n",
    "\n",
    "sg = sendgrid.SendGridAPIClient(api_key=sendgrid_api_key)\n",
    "\n",
    "from_email = Email(\"\") #From Email\n",
    "to_email = To(\"\") #To Email\n",
    "content = Content(\"text/plain\", \"When are you coming home\")\n",
    "message = Mail(from_email, to_email, \"Test Email\", content).get()\n",
    "response = sg.client.mail.send.post(request_body=message)\n",
    "print(response.status_code)\n",
    "\n",
    "\n"
   ]
  },
  {
   "cell_type": "code",
   "execution_count": null,
   "id": "f58e66b7",
   "metadata": {},
   "outputs": [],
   "source": []
  }
 ],
 "metadata": {
  "kernelspec": {
   "display_name": ".venv",
   "language": "python",
   "name": "python3"
  },
  "language_info": {
   "codemirror_mode": {
    "name": "ipython",
    "version": 3
   },
   "file_extension": ".py",
   "mimetype": "text/x-python",
   "name": "python",
   "nbconvert_exporter": "python",
   "pygments_lexer": "ipython3",
   "version": "3.12.5"
  }
 },
 "nbformat": 4,
 "nbformat_minor": 5
}
